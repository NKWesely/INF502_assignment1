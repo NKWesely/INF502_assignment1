{
  "nbformat": 4,
  "nbformat_minor": 0,
  "metadata": {
    "colab": {
      "provenance": [],
      "authorship_tag": "ABX9TyPYV+KimQdScufkeCSMLebo",
      "include_colab_link": true
    },
    "kernelspec": {
      "name": "python3",
      "display_name": "Python 3"
    },
    "language_info": {
      "name": "python"
    }
  },
  "cells": [
    {
      "cell_type": "markdown",
      "metadata": {
        "id": "view-in-github",
        "colab_type": "text"
      },
      "source": [
        "<a href=\"https://colab.research.google.com/github/NKWesely/INF502_assignments/blob/main/Assignment3_INF502.ipynb\" target=\"_parent\"><img src=\"https://colab.research.google.com/assets/colab-badge.svg\" alt=\"Open In Colab\"/></a>"
      ]
    },
    {
      "cell_type": "markdown",
      "source": [
        "# INF 502 PA 1\n",
        "### Natasha Wesely\n",
        "### October 11, 2022"
      ],
      "metadata": {
        "id": "wmh6nhcJH4Xt"
      }
    },
    {
      "cell_type": "markdown",
      "source": [
        "## Problem 1: Wallets\n",
        "*Instructions: Write a Python program that request a user to provide numbers representing the value in cash for different wallets. Your program should store these values in a list. The user should be able to add as many values as they want.*"
      ],
      "metadata": {
        "id": "Etz4-5n_H8O2"
      }
    },
    {
      "cell_type": "markdown",
      "source": [
        "### Explanation of My Approach\n",
        "To create this application, I first define a function that simply prints all the options the user can choose from."
      ],
      "metadata": {
        "id": "F2-Pk1TMAfKI"
      }
    },
    {
      "cell_type": "code",
      "source": [
        "def optionMenu():\n",
        "    print(\"\\nWhat do you want to do? Here are the options:\")\n",
        "    print(\"1. Show your list of cash values in the wallet list\")\n",
        "    print(\"2. Add a cash value of a new wallet to your list\")\n",
        "    print(\"3. Get summary information about your wallet list\")\n",
        "    print(\"4. Exit the application\")"
      ],
      "metadata": {
        "id": "_7gDdhpHJCMs"
      },
      "execution_count": 1,
      "outputs": []
    },
    {
      "cell_type": "markdown",
      "source": [
        "Next, I define the main() function. In the main() function, I welcome the user and initalize an empty list to store the wallets' cash values. Then I define the object \"op\" to enter a while loop. Inside the while loop, I print the option menu (using my optionMenu() function defined above), then store the user's input (of their option choice) in \"op\". Then I use a series of if and elif statements to execute all the options. \n",
        "\n",
        "If the user chooses option 1, then the program simply prints the list of cash values in the wallets. \n",
        "\n",
        "If the user chooses option 2, then the program asks the user for a new cash value of a new wallet. The new cash value is then appended to the list of wallet's cash values as a float value.\n",
        "\n",
        "If the user chooses option 3, then the program prints summary information about the list of wallets. The program prints the \"fattest\" wallet, \"skinniest\" wallet, total money in all the wallets in dollars, and the total money in all the wallets in dimes.\n",
        "\n",
        "If the user tries to choose an option that is not valid, the program prints an error and returns to the top of the while loop.\n",
        "\n",
        "If the user chooses option 4, then the program exits the while loop, and prints a thank you statement."
      ],
      "metadata": {
        "id": "sXd7HR4SDJD9"
      }
    },
    {
      "cell_type": "code",
      "execution_count": 2,
      "metadata": {
        "id": "XpQkrKA2HpfV"
      },
      "outputs": [],
      "source": [
        "def main():\n",
        "  # welcome to user\n",
        "  print('Welcome!\\nThis is an application to store and evaluate the cash values in wallets.')\n",
        "  \n",
        "  # initalize an empty list to store cash values\n",
        "  myWallets = []\n",
        "  # initialize \"op\" with something silly to enter the while loop\n",
        "  op = 0\n",
        "  \n",
        "  # while the user is using the application\n",
        "  while op != 4:\n",
        "    # print the option menu\n",
        "    optionMenu()\n",
        "    # save the user's input\n",
        "    op = int(input(\"\\nType a number to select your option: \" ))\n",
        "    \n",
        "    # if the user chooses option 1\n",
        "    if op == 1:\n",
        "      # show the user their list of cash values\n",
        "      print(\"\\nYour list of cash values in your wallet list:\")\n",
        "      print(myWallets)\n",
        "    \n",
        "    # if the user chooses option 2\n",
        "    elif op == 2:\n",
        "      # get the new cash value from the user to be added to the wallet list\n",
        "      cashVal = float(input(\"\\nEnter the new cash value of a wallet you want to add to your wallet list: \"))\n",
        "      # add then new cash value to the wallet list\n",
        "      myWallets.append(cashVal)\n",
        "  \n",
        "    # if the user chooses option 3\n",
        "    elif op == 3:\n",
        "      print(\"\\nSUMMARY OF YOUR WALLETS:\")\n",
        "      print(\"\\nThere are\", len(myWallets), \"wallets in your list.\")\n",
        "      print(\"The fattest wallet has $\",\"{:.2f}\".format(max(myWallets)), \"in it.\")\n",
        "      print(\"The skinniest wallet has $\", \"{:.2f}\".format(min(myWallets)), \"in it.\")\n",
        "      print(\"All together, the wallets have $\", \"{:.2f}\".format(sum(myWallets)), \"in them.\")\n",
        "      print(\"All together, the total value of these wallets is worth\", \"{:.2f}\".format(sum(myWallets)*10), \"in dimes.\")\n",
        "    \n",
        "    elif op not in range(1,5):\n",
        "        print(\"\\nERROR: Invalid option, please choose an option between 1 and 4\")\n",
        "  \n",
        "  # if the user chooses option 4\n",
        "  print(\"Thank you! The wallet application is now closed\")"
      ]
    },
    {
      "cell_type": "markdown",
      "source": [
        "### Example Output of Problem 1"
      ],
      "metadata": {
        "id": "xDT4dt9FOwiA"
      }
    },
    {
      "cell_type": "code",
      "source": [
        "main()"
      ],
      "metadata": {
        "colab": {
          "base_uri": "https://localhost:8080/"
        },
        "id": "oJ-1cCWXJm-W",
        "outputId": "4b66b684-c914-41da-ea4a-26cec83090e3"
      },
      "execution_count": 3,
      "outputs": [
        {
          "output_type": "stream",
          "name": "stdout",
          "text": [
            "Welcome!\n",
            "This is an application to store and evaluate the cash values in wallets.\n",
            "\n",
            "What do you want to do? Here are the options:\n",
            "1. Show your list of cash values in the wallet list\n",
            "2. Add a cash value of a new wallet to your list\n",
            "3. Get summary information about your wallet list\n",
            "4. Exit the application\n",
            "\n",
            "Type a number to select your option: 2\n",
            "\n",
            "Enter the new cash value of a wallet you want to add to your wallet list: 23.56\n",
            "\n",
            "What do you want to do? Here are the options:\n",
            "1. Show your list of cash values in the wallet list\n",
            "2. Add a cash value of a new wallet to your list\n",
            "3. Get summary information about your wallet list\n",
            "4. Exit the application\n",
            "\n",
            "Type a number to select your option: 2\n",
            "\n",
            "Enter the new cash value of a wallet you want to add to your wallet list: 678.901\n",
            "\n",
            "What do you want to do? Here are the options:\n",
            "1. Show your list of cash values in the wallet list\n",
            "2. Add a cash value of a new wallet to your list\n",
            "3. Get summary information about your wallet list\n",
            "4. Exit the application\n",
            "\n",
            "Type a number to select your option: 2\n",
            "\n",
            "Enter the new cash value of a wallet you want to add to your wallet list: 3.234234\n",
            "\n",
            "What do you want to do? Here are the options:\n",
            "1. Show your list of cash values in the wallet list\n",
            "2. Add a cash value of a new wallet to your list\n",
            "3. Get summary information about your wallet list\n",
            "4. Exit the application\n",
            "\n",
            "Type a number to select your option: 1\n",
            "\n",
            "Your list of cash values in your wallet list:\n",
            "[23.56, 678.901, 3.234234]\n",
            "\n",
            "What do you want to do? Here are the options:\n",
            "1. Show your list of cash values in the wallet list\n",
            "2. Add a cash value of a new wallet to your list\n",
            "3. Get summary information about your wallet list\n",
            "4. Exit the application\n",
            "\n",
            "Type a number to select your option: 3\n",
            "\n",
            "SUMMARY OF YOUR WALLETS:\n",
            "\n",
            "There are 3 wallets in your list.\n",
            "The fattest wallet has $ 678.90 in it.\n",
            "The skinniest wallet has $ 3.23 in it.\n",
            "All together, the wallets have $ 705.70 in them.\n",
            "All together, the total value of these wallets is worth 7056.95 in dimes.\n",
            "\n",
            "What do you want to do? Here are the options:\n",
            "1. Show your list of cash values in the wallet list\n",
            "2. Add a cash value of a new wallet to your list\n",
            "3. Get summary information about your wallet list\n",
            "4. Exit the application\n",
            "\n",
            "Type a number to select your option: 6\n",
            "\n",
            "ERROR: Invalid option, please choose an option between 1 and 4\n",
            "\n",
            "What do you want to do? Here are the options:\n",
            "1. Show your list of cash values in the wallet list\n",
            "2. Add a cash value of a new wallet to your list\n",
            "3. Get summary information about your wallet list\n",
            "4. Exit the application\n",
            "\n",
            "Type a number to select your option: 4\n",
            "Thank you! The wallet application is now closed\n"
          ]
        }
      ]
    },
    {
      "cell_type": "markdown",
      "source": [
        "## Problem 2: Periodic Table\n",
        "*Instructions: The Periodic Table of the Elements was developed to organize information about the elements that make up the Universe. Write a terminal application that lets you enter information about each element in the periodic table.*"
      ],
      "metadata": {
        "id": "WtwCHT8aXAxb"
      }
    },
    {
      "cell_type": "markdown",
      "source": [
        "### Explanation of My Approach\n",
        "To create this program, I broke out the code into a lot of different functions. I defined a function for each of the options the user can choose. \n",
        "\n",
        "I first define a function that prints all the options the user can choose from, called optionMenu()."
      ],
      "metadata": {
        "id": "oSKgyxpgAZ7e"
      }
    },
    {
      "cell_type": "code",
      "source": [
        "def optionMenu():\n",
        "    print(\"\\nWhat do you want to do? Here are the options:\")\n",
        "    print(\"1. Search the element by symbol (see all the details).\")\n",
        "    print(\"2. Search by a property (name, number, row, column) and see the values for that property for all the elements in the table.\")\n",
        "    print(\"3. Enter a new element manually (type the information for each property)\")\n",
        "    print(\"4. Change the properties of an element (by symbol)\")\n",
        "    print(\"5. Export periodic table as a JSON file\")\n",
        "    print(\"6. Load periodic table from JSON file\")\n",
        "    print(\"7. Exit the program\")"
      ],
      "metadata": {
        "id": "DIDWAVstXoOx"
      },
      "execution_count": 4,
      "outputs": []
    },
    {
      "cell_type": "markdown",
      "source": [
        "Next, I define a function for option 1. The op1() function first prints all the elements currently in the periodic table dictionary. Then the function asks the user what element they want information about (by asking for the symbol). Then the function uses the input element symbol (from the user) to look up that element's entry in the periodic table dictionary. The information about that element is then printed for the user."
      ],
      "metadata": {
        "id": "wfmDUKnSRRHN"
      }
    },
    {
      "cell_type": "code",
      "source": [
        "def op1(perDict):\n",
        "  print(\"\\nCurrently, these are all the elements in the periodic table: \")\n",
        "  print(list(perDict.keys()))\n",
        "  # ask the user what element\n",
        "  symb = input(\"\\nWhat is the symbol of the element for which you want the information? :\")\n",
        "  # grab that element\n",
        "  elem = perDict.get(symb, -1)\n",
        "  # print the attributes of that element\n",
        "  print(elem)"
      ],
      "metadata": {
        "id": "AvsaE9uTx-c3"
      },
      "execution_count": 17,
      "outputs": []
    },
    {
      "cell_type": "markdown",
      "source": [
        "Next, I define a function for option 2. This function first asks the user which property they want to search the dictionary by. Then the function grabs all the keys in the periodic table dictionary and saves them in a list (\"allKeys\"), which gets used in the for loop. Then the function prints all the elements in the periodic table dictionary (the element's symbol and the element's property) by looping through the dictionary."
      ],
      "metadata": {
        "id": "Llhl7om-R9wg"
      }
    },
    {
      "cell_type": "code",
      "source": [
        "def op2(perDict):\n",
        "  print(\"\\nWhich property would you like to search by?\")\n",
        "  # get the property to search by from the user\n",
        "  prop = input(\"You can choose 'name', 'number', 'row', or 'column' : \").lower()\n",
        "  # grab all the dictionary keys and conver to a list\n",
        "  allKeys = list(perDict.keys())\n",
        "\n",
        "  print(\"\\nALL ELEMENTS AND THEIR\",prop.upper(),\":\")\n",
        "  # loop through each element in the dictionary \n",
        "  for i in range(len(allKeys)):\n",
        "    # print the symbol and the property of that symbol\n",
        "    print(allKeys[i], \":\", perDict[allKeys[i]][prop])\n"
      ],
      "metadata": {
        "id": "romuTAsQzhj2"
      },
      "execution_count": 18,
      "outputs": []
    },
    {
      "cell_type": "markdown",
      "source": [
        "Next, I define a function for option 3. For this option, the user wants to add a new element to the periodic table. So the function first collects all the information for the new element from the user. Then the function creates a new entry in the periodic table dictionary using the information collected from the user."
      ],
      "metadata": {
        "id": "83GRTJ0YWBbE"
      }
    },
    {
      "cell_type": "code",
      "source": [
        "def op3(perDict):\n",
        "  # get the information for the new element to be added to the periodic table\n",
        "  newSymb = input(\"\\nWhat is the symbol of the new element you want to add to the periodic table? : \")\n",
        "  newName = input(\"\\nWhat is the name of the new element? : \")\n",
        "  newNumber = input(\"\\nWhat is the atomic number of the new element? : \")\n",
        "  newRow = input(\"\\nWhat is the row of the new element in the periodic table? : \")\n",
        "  newCol = input(\"\\nWhat is the column of the new element in the periodic table? : \")\n",
        "\n",
        "  # add the new element to the dictionary\n",
        "  perDict[newSymb] = {\"name\":newName, \"number\":newNumber, \"row\":newRow, \"column\":newCol}\n",
        "\n",
        "  # tell the user their new element had been added\n",
        "  print(\"\\nYour new element '\", newSymb, \"' has been added to the periodic table.\")"
      ],
      "metadata": {
        "id": "4Ytiu3gCXYuR"
      },
      "execution_count": 19,
      "outputs": []
    },
    {
      "cell_type": "markdown",
      "source": [
        "Next, I define a function for option 4. For this option, the user wants to change an entry in the periodic table dictionary. First, I print all the symbols of elements currently in the dictionary, just to make it easy for the user. Then I ask the user for the symbol of the element they want to change and print the current information in the dictionary for that element. Then I ask the user for the property of the element they want to change. Then I ask the user for the actual change for that property of that element. Then I change the entry for that element in the periodic table dictionary using the information I got from the user. Then I print the updated information of the element the user wanted to change. "
      ],
      "metadata": {
        "id": "KQAfHfl5Wzw5"
      }
    },
    {
      "cell_type": "code",
      "source": [
        "def op4(perDict):\n",
        "  # print all the symbols of the all elements currently in the dictionary\n",
        "  print(\"\\nCurrently, these are all the elements in the periodic table: \")\n",
        "  print(list(perDict.keys()))\n",
        "  # ask the user what symbol/element they want to change\n",
        "  changeSymb = input(\"\\nWhat is the symbol of the element you want to change the properties of? : \")\n",
        "  # print the current information of that element\n",
        "  print(\"\\nCurrently, the information for\",changeSymb,\"is: \")\n",
        "  print(perDict.get(changeSymb, -1))\n",
        "  # ask the user what property they want to change\n",
        "  print(\"\\nWhat is the property of\", changeSymb,\"that you would like to change?\")\n",
        "  changeProp = input(\"\\nYou can choose 'name', 'number', 'row', or 'column' : \")\n",
        "  # ask the user for the edit\n",
        "  change = input(\"\\nWhat should that property be? : \")\n",
        "\n",
        "  # change the properties \n",
        "  perDict[changeSymb][changeProp] = change\n",
        "\n",
        "  # tell the user the property has been changed\n",
        "  print(\"\\nThe information of\",changeSymb,\"has been corrected.\")\n",
        "  # print the new information for the updated element\n",
        "  print(\"Now the information for\",changeSymb,\"is: \")\n",
        "  print(perDict.get(changeSymb, -1))"
      ],
      "metadata": {
        "id": "4qWEt72HadLy"
      },
      "execution_count": 20,
      "outputs": []
    },
    {
      "cell_type": "markdown",
      "source": [
        "Next I define op5() for option 5. This function first asks the user what they would like their exported JSON file to be named. Then the function adds on the correct .json file extension to the user's file name. Then the function opens a new file (with the user's file name) and writes out the periodic table dictionary as a string. The function closes the file and tells the user the JSON file has been created."
      ],
      "metadata": {
        "id": "kcJiLW4mLmCu"
      }
    },
    {
      "cell_type": "code",
      "source": [
        "def op5(perDict):\n",
        "  # get the desired file name from the user\n",
        "  userName = input(\"\\nWhat would you like your JSON file of the periodic table to be named? (no file extension) : \")\n",
        "  # tell the user the program is exporting the file\n",
        "  print(\"\\nExporting the periodic table as a JSON file now...\")\n",
        "  # combine the user's file name with the correct .json file extension\n",
        "  write_file = userName + \".json\"\n",
        "  # open a new file with the user's file name\n",
        "  outFile = open(write_file,'w')\n",
        "  # write out the periodic table dictionary to the json file as a string\n",
        "  outFile.write(str(perDict))\n",
        "  # close the newly created json file\n",
        "  outFile.close()\n",
        "  # tell the user the exportation is complete\n",
        "  print(\"\\nDone! Check your current working directory for the JSON file.\")"
      ],
      "metadata": {
        "id": "-7S_EZnpauZU"
      },
      "execution_count": 21,
      "outputs": []
    },
    {
      "cell_type": "markdown",
      "source": [
        "Next, I define a function for option 6. With this option, the user wants to load in their own dictionary of the periodic table. So the fuction asks the user for their file name and adds the correct .json file extension. Then the function opens that file, reads the contents, and converts the contents to a string (\"inStr\"). Then the string gets converted to a dictionary (\"inDict\"). The imported dictionary is printed for the user and the function returns the newly loaded dictionary."
      ],
      "metadata": {
        "id": "z1GtrKQJMSHp"
      }
    },
    {
      "cell_type": "code",
      "source": [
        "def op6():\n",
        "  # get the name of the json file from the user\n",
        "  userName = input(\"\\nWhat is the name of your JSON file of the periodic table? (no file extension) : \")\n",
        "  # combine the user's file name with the correct file extension\n",
        "  read_file = userName + \".json\"\n",
        "  # open the user's file\n",
        "  inFile = open(read_file, \"r\")\n",
        "  # read the user's file and save the contents as a string\n",
        "  inStr = str(inFile.read())\n",
        "  # import the ast module\n",
        "  import ast\n",
        "  # convert the string to a dictionary\n",
        "  inDict = ast.literal_eval(inStr)\n",
        "  # print the imported dictionary for the user\n",
        "  print(\"\\nDone! Your imported periodic table: \")\n",
        "  print(inDict)\n",
        "  # return the imported dictionary\n",
        "  return inDict"
      ],
      "metadata": {
        "id": "heuXj2pSdKJy"
      },
      "execution_count": 22,
      "outputs": []
    },
    {
      "cell_type": "markdown",
      "source": [
        "Finally, I define a main() function. This function is simple because I define all those complicated functions for each option in seperate functions (above). In the main() function, I first welcome the user. Then I initialize an empty dictionary (\"perDict\") so that the user can start adding elements. Then I define the \"op\" object to enter the while loop. Inside the while loop, the option menu prints and the user is asked what option they want. If the user chooses option 1, then the op1() function is called, if the user chooses option 2, then the op2() function is called, etc. If the user tries to input an invalid option, an error prints and the user is returned to the top of the while loop. Finally, if the user chooses option 7, the code exits the while loop and prints a thank you statement. "
      ],
      "metadata": {
        "id": "JqYzreEWd1yZ"
      }
    },
    {
      "cell_type": "code",
      "source": [
        "def main():\n",
        "  # welcome to user\n",
        "  print('Welcome!\\nThis is an application to store information about elements in the periodic table.')\n",
        "  \n",
        "  # initalize an empty dictionary to store elements\n",
        "  perDict = {}\n",
        "  # initialize \"op\" with something silly to enter the while loop\n",
        "  op = 0\n",
        "  \n",
        "  # while the user is using the application\n",
        "  while op != 7:\n",
        "    # print the option menu\n",
        "    optionMenu()\n",
        "    # save the user's input\n",
        "    op = int(input(\"\\nType a number to select your option: \" ))\n",
        "\n",
        "    if op == 1:\n",
        "      # Search the element by symbol (see all the details).\n",
        "      op1(perDict)\n",
        "    elif op == 2:\n",
        "      # Search by a property (name, number, row, column) and see the values for that property for all the elements in the table\n",
        "      op2(perDict)\n",
        "    elif op == 3:\n",
        "      # Enter a new element manually (type the information for each property)\n",
        "      op3(perDict)\n",
        "    elif op == 4:\n",
        "      # Change the properties of an element (by symbol)\n",
        "      op4(perDict)\n",
        "    elif op == 5:\n",
        "      # Export periodic table as a JSON file\n",
        "      op5(perDict)\n",
        "    elif op == 6:\n",
        "      # Load periodic table from JSON file\n",
        "      # read in the user's JSON file\n",
        "      inDict = op6()\n",
        "      # write over the existing periodic table dictionary with the user's dictionary\n",
        "      perDict = inDict\n",
        "      \n",
        "    # if the user chooses an option that is not valid\n",
        "    elif op not in range(1,8):\n",
        "      print(\"\\nERROR: Invalid option, please choose an option between 1 and 7\")\n",
        "  \n",
        "  # if the user chooses option 7\n",
        "  print(\"Thank you! This application is now closing.\")\n",
        "  "
      ],
      "metadata": {
        "id": "5u1yd4o6Xe2j"
      },
      "execution_count": 23,
      "outputs": []
    },
    {
      "cell_type": "markdown",
      "source": [
        "### Example Output of Problem 2"
      ],
      "metadata": {
        "id": "ryFG8qkOfB2A"
      }
    },
    {
      "cell_type": "markdown",
      "source": [
        "*Because I am submitting this assignment as a google collab, I have to have the code chunk below to link my google drive (to write/read files from) to this notebook. However, this code chunk is not relevant to anything else and it does not affect my program. So just ignore it!*"
      ],
      "metadata": {
        "id": "j1UutiMMSI7v"
      }
    },
    {
      "cell_type": "code",
      "source": [
        "# connect this notebook to my google drive\n",
        "from google.colab import drive\n",
        "drive.mount('/content/gdrive')\n",
        "\n",
        "# set the working directory to a google drive folder\n",
        "import os\n",
        "os.chdir(\"/content/gdrive/My Drive/INF502_SoftwareDevelopmentMethodologies/HW3/\")\n",
        "os.getcwd()"
      ],
      "metadata": {
        "colab": {
          "base_uri": "https://localhost:8080/",
          "height": 73
        },
        "id": "HpLtBt89xkji",
        "outputId": "f44a2812-9906-4b2b-8870-c20c29412ab7"
      },
      "execution_count": 15,
      "outputs": [
        {
          "output_type": "stream",
          "name": "stdout",
          "text": [
            "Drive already mounted at /content/gdrive; to attempt to forcibly remount, call drive.mount(\"/content/gdrive\", force_remount=True).\n"
          ]
        },
        {
          "output_type": "execute_result",
          "data": {
            "text/plain": [
              "'/content/gdrive/.shortcut-targets-by-id/10m6Z4hpeF6eRFPy0zcnUIpR5losQX9bu/INF502_SoftwareDevelopmentMethodologies/HW3'"
            ],
            "application/vnd.google.colaboratory.intrinsic+json": {
              "type": "string"
            }
          },
          "metadata": {},
          "execution_count": 15
        }
      ]
    },
    {
      "cell_type": "markdown",
      "source": [
        "Below I demonstrate entering new elements (option 3), searching an element by symbol (option 1), changing the properties of an element (option 4), searching by a property (option 2), exporting the dictionary to a JSON file (option 5), and exiting the program (option 7). "
      ],
      "metadata": {
        "id": "SlmHJdeLUKlq"
      }
    },
    {
      "cell_type": "code",
      "source": [
        "main()"
      ],
      "metadata": {
        "colab": {
          "base_uri": "https://localhost:8080/"
        },
        "id": "1FQ_P1wn1UXJ",
        "outputId": "f71f781f-6640-461d-cac1-7d826ac7d129"
      },
      "execution_count": 24,
      "outputs": [
        {
          "output_type": "stream",
          "name": "stdout",
          "text": [
            "Welcome!\n",
            "This is an application to store information about elements in the periodic table.\n",
            "\n",
            "What do you want to do? Here are the options:\n",
            "1. Search the element by symbol (see all the details).\n",
            "2. Search by a property (name, number, row, column) and see the values for that property for all the elements in the table.\n",
            "3. Enter a new element manually (type the information for each property)\n",
            "4. Change the properties of an element (by symbol)\n",
            "5. Export periodic table as a JSON file\n",
            "6. Load periodic table from JSON file\n",
            "7. Exit the program\n",
            "\n",
            "Type a number to select your option: 3\n",
            "\n",
            "What is the symbol of the new element you want to add to the periodic table? : HE\n",
            "\n",
            "What is the name of the new element? : helium\n",
            "\n",
            "What is the atomic number of the new element? : 45\n",
            "\n",
            "What is the row of the new element in the periodic table? : 7\n",
            "\n",
            "What is the column of the new element in the periodic table? : 8\n",
            "\n",
            "Your new element ' HE ' has been added to the periodic table.\n",
            "\n",
            "What do you want to do? Here are the options:\n",
            "1. Search the element by symbol (see all the details).\n",
            "2. Search by a property (name, number, row, column) and see the values for that property for all the elements in the table.\n",
            "3. Enter a new element manually (type the information for each property)\n",
            "4. Change the properties of an element (by symbol)\n",
            "5. Export periodic table as a JSON file\n",
            "6. Load periodic table from JSON file\n",
            "7. Exit the program\n",
            "\n",
            "Type a number to select your option: 3\n",
            "\n",
            "What is the symbol of the new element you want to add to the periodic table? : PB\n",
            "\n",
            "What is the name of the new element? : lead\n",
            "\n",
            "What is the atomic number of the new element? : 667\n",
            "\n",
            "What is the row of the new element in the periodic table? : 1\n",
            "\n",
            "What is the column of the new element in the periodic table? : 3\n",
            "\n",
            "Your new element ' PB ' has been added to the periodic table.\n",
            "\n",
            "What do you want to do? Here are the options:\n",
            "1. Search the element by symbol (see all the details).\n",
            "2. Search by a property (name, number, row, column) and see the values for that property for all the elements in the table.\n",
            "3. Enter a new element manually (type the information for each property)\n",
            "4. Change the properties of an element (by symbol)\n",
            "5. Export periodic table as a JSON file\n",
            "6. Load periodic table from JSON file\n",
            "7. Exit the program\n",
            "\n",
            "Type a number to select your option: 1\n",
            "\n",
            "Currently, these are all the elements in the periodic table: \n",
            "['HE', 'PB']\n",
            "\n",
            "What is the symbol of the element for which you want the information? :HE\n",
            "{'name': 'helium', 'number': '45', 'row': '7', 'column': '8'}\n",
            "\n",
            "What do you want to do? Here are the options:\n",
            "1. Search the element by symbol (see all the details).\n",
            "2. Search by a property (name, number, row, column) and see the values for that property for all the elements in the table.\n",
            "3. Enter a new element manually (type the information for each property)\n",
            "4. Change the properties of an element (by symbol)\n",
            "5. Export periodic table as a JSON file\n",
            "6. Load periodic table from JSON file\n",
            "7. Exit the program\n",
            "\n",
            "Type a number to select your option: 4\n",
            "\n",
            "Currently, these are all the elements in the periodic table: \n",
            "['HE', 'PB']\n",
            "\n",
            "What is the symbol of the element you want to change the properties of? : HE\n",
            "\n",
            "Currently, the information for HE is: \n",
            "{'name': 'helium', 'number': '45', 'row': '7', 'column': '8'}\n",
            "\n",
            "What is the property of HE that you would like to change?\n",
            "\n",
            "You can choose 'name', 'number', 'row', or 'column' : number\n",
            "\n",
            "What should that property be? : 87687\n",
            "\n",
            "The information of HE has been corrected.\n",
            "Now the information for HE is: \n",
            "{'name': 'helium', 'number': '87687', 'row': '7', 'column': '8'}\n",
            "\n",
            "What do you want to do? Here are the options:\n",
            "1. Search the element by symbol (see all the details).\n",
            "2. Search by a property (name, number, row, column) and see the values for that property for all the elements in the table.\n",
            "3. Enter a new element manually (type the information for each property)\n",
            "4. Change the properties of an element (by symbol)\n",
            "5. Export periodic table as a JSON file\n",
            "6. Load periodic table from JSON file\n",
            "7. Exit the program\n",
            "\n",
            "Type a number to select your option: 2\n",
            "\n",
            "Which property would you like to search by?\n",
            "You can choose 'name', 'number', 'row', or 'column' : name\n",
            "\n",
            "ALL ELEMENTS AND THEIR NAME :\n",
            "HE : helium\n",
            "PB : lead\n",
            "\n",
            "What do you want to do? Here are the options:\n",
            "1. Search the element by symbol (see all the details).\n",
            "2. Search by a property (name, number, row, column) and see the values for that property for all the elements in the table.\n",
            "3. Enter a new element manually (type the information for each property)\n",
            "4. Change the properties of an element (by symbol)\n",
            "5. Export periodic table as a JSON file\n",
            "6. Load periodic table from JSON file\n",
            "7. Exit the program\n",
            "\n",
            "Type a number to select your option: 5\n",
            "\n",
            "What would you like your JSON file of the periodic table to be named? (no file extension) : myPeriodicTable\n",
            "\n",
            "Exporting the periodic table as a JSON file now...\n",
            "\n",
            "Done! Check your current working directory for the JSON file.\n",
            "\n",
            "What do you want to do? Here are the options:\n",
            "1. Search the element by symbol (see all the details).\n",
            "2. Search by a property (name, number, row, column) and see the values for that property for all the elements in the table.\n",
            "3. Enter a new element manually (type the information for each property)\n",
            "4. Change the properties of an element (by symbol)\n",
            "5. Export periodic table as a JSON file\n",
            "6. Load periodic table from JSON file\n",
            "7. Exit the program\n",
            "\n",
            "Type a number to select your option: 7\n",
            "Thank you! This application is now closing.\n"
          ]
        }
      ]
    },
    {
      "cell_type": "markdown",
      "source": [
        "Below I demonstrate loading in a dictionary (option 6), adding new elements to the loaded dictionary (option 3), changing properties of the loaded dictionary (option 4), and exiting the program (option 7)."
      ],
      "metadata": {
        "id": "htURIMRWUrc_"
      }
    },
    {
      "cell_type": "code",
      "source": [
        "main()"
      ],
      "metadata": {
        "colab": {
          "base_uri": "https://localhost:8080/"
        },
        "id": "8RDhunBbUqpi",
        "outputId": "b7586e07-4a49-4e1c-fea1-53a6dbbc8da1"
      },
      "execution_count": 25,
      "outputs": [
        {
          "output_type": "stream",
          "name": "stdout",
          "text": [
            "Welcome!\n",
            "This is an application to store information about elements in the periodic table.\n",
            "\n",
            "What do you want to do? Here are the options:\n",
            "1. Search the element by symbol (see all the details).\n",
            "2. Search by a property (name, number, row, column) and see the values for that property for all the elements in the table.\n",
            "3. Enter a new element manually (type the information for each property)\n",
            "4. Change the properties of an element (by symbol)\n",
            "5. Export periodic table as a JSON file\n",
            "6. Load periodic table from JSON file\n",
            "7. Exit the program\n",
            "\n",
            "Type a number to select your option: 6\n",
            "\n",
            "What is the name of your JSON file of the periodic table? (no file extension) : myPeriodicTable\n",
            "\n",
            "Done! Your imported periodic table: \n",
            "{'HE': {'name': 'helium', 'number': '87687', 'row': '7', 'column': '8'}, 'PB': {'name': 'lead', 'number': '667', 'row': '1', 'column': '3'}}\n",
            "\n",
            "What do you want to do? Here are the options:\n",
            "1. Search the element by symbol (see all the details).\n",
            "2. Search by a property (name, number, row, column) and see the values for that property for all the elements in the table.\n",
            "3. Enter a new element manually (type the information for each property)\n",
            "4. Change the properties of an element (by symbol)\n",
            "5. Export periodic table as a JSON file\n",
            "6. Load periodic table from JSON file\n",
            "7. Exit the program\n",
            "\n",
            "Type a number to select your option: 3\n",
            "\n",
            "What is the symbol of the new element you want to add to the periodic table? : MN\n",
            "\n",
            "What is the name of the new element? : manganese\n",
            "\n",
            "What is the atomic number of the new element? : 44\n",
            "\n",
            "What is the row of the new element in the periodic table? : 8\n",
            "\n",
            "What is the column of the new element in the periodic table? : 9\n",
            "\n",
            "Your new element ' MN ' has been added to the periodic table.\n",
            "\n",
            "What do you want to do? Here are the options:\n",
            "1. Search the element by symbol (see all the details).\n",
            "2. Search by a property (name, number, row, column) and see the values for that property for all the elements in the table.\n",
            "3. Enter a new element manually (type the information for each property)\n",
            "4. Change the properties of an element (by symbol)\n",
            "5. Export periodic table as a JSON file\n",
            "6. Load periodic table from JSON file\n",
            "7. Exit the program\n",
            "\n",
            "Type a number to select your option: 4\n",
            "\n",
            "Currently, these are all the elements in the periodic table: \n",
            "['HE', 'PB', 'MN']\n",
            "\n",
            "What is the symbol of the element you want to change the properties of? : PB\n",
            "\n",
            "Currently, the information for PB is: \n",
            "{'name': 'lead', 'number': '667', 'row': '1', 'column': '3'}\n",
            "\n",
            "What is the property of PB that you would like to change?\n",
            "\n",
            "You can choose 'name', 'number', 'row', or 'column' : row\n",
            "\n",
            "What should that property be? : 4\n",
            "\n",
            "The information of PB has been corrected.\n",
            "Now the information for PB is: \n",
            "{'name': 'lead', 'number': '667', 'row': '4', 'column': '3'}\n",
            "\n",
            "What do you want to do? Here are the options:\n",
            "1. Search the element by symbol (see all the details).\n",
            "2. Search by a property (name, number, row, column) and see the values for that property for all the elements in the table.\n",
            "3. Enter a new element manually (type the information for each property)\n",
            "4. Change the properties of an element (by symbol)\n",
            "5. Export periodic table as a JSON file\n",
            "6. Load periodic table from JSON file\n",
            "7. Exit the program\n",
            "\n",
            "Type a number to select your option: 7\n",
            "Thank you! This application is now closing.\n"
          ]
        }
      ]
    }
  ]
}
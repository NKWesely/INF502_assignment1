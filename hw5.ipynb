{
  "nbformat": 4,
  "nbformat_minor": 0,
  "metadata": {
    "colab": {
      "provenance": [],
      "collapsed_sections": [],
      "authorship_tag": "ABX9TyMeWSlDiSdLdjsqwhuAHrn5",
      "include_colab_link": true
    },
    "kernelspec": {
      "name": "python3",
      "display_name": "Python 3"
    },
    "language_info": {
      "name": "python"
    }
  },
  "cells": [
    {
      "cell_type": "markdown",
      "metadata": {
        "id": "view-in-github",
        "colab_type": "text"
      },
      "source": [
        "<a href=\"https://colab.research.google.com/github/NKWesely/INF502_assignments/blob/main/hw5.ipynb\" target=\"_parent\"><img src=\"https://colab.research.google.com/assets/colab-badge.svg\" alt=\"Open In Colab\"/></a>"
      ]
    },
    {
      "cell_type": "markdown",
      "source": [
        "# INF 502 HW 5\n",
        "# Divide & Conquer Assignment\n",
        "### Natasha Wesely\n",
        "### November 29, 2022\n",
        "\n",
        "---\n",
        "\n"
      ],
      "metadata": {
        "id": "wmh6nhcJH4Xt"
      }
    },
    {
      "cell_type": "markdown",
      "source": [
        "### *Instructions:*\n",
        "*Two positive integers always have common factors. For example, the common factors 12 and 18 are 1, 2, 3, and 6 because 12 and 18 are both divisible by these numbers.*\n",
        "\n",
        "*The greatest common factor (GCF) of a number is the largest number by which both numbers are divisible. In the example, the number 6 is the GFC of 12 and 18.*\n",
        "\n",
        "*There are at least two methods for calculating GDF of two numbers. One is the method of successive divisions. In this process, we make several divisions until we reach an exact division. The divisor of this division is the GDF. For example, for the 48 and 30 we have the following:*\n",
        "\n",
        "1. *We divide the largest number by the smallest number: 48/30 = 1 (with remainder of 18)*\n",
        "\n",
        "2. *We divide 30 (the divisor of the previous division) by 18 (the remainder of the previous division) and so on:*\n",
        "\n",
        " *30/18 = 1 (with remainder of 12)*\n",
        "\n",
        " *18/12 = 1 (with remainder of 6)*\n",
        "\n",
        " *12/6 = 2 (exact division)*\n",
        "\n",
        "3. *The divisor of the exact division is 6. So the GDF of 48 and 30 is 6.*"
      ],
      "metadata": {
        "id": "Etz4-5n_H8O2"
      }
    },
    {
      "cell_type": "markdown",
      "source": [
        "### *Your Task:*\n",
        "*Implement a \"divide and conquer\" function GDF(a,b) that solves the GDF problem for any two positive integers a and b.*\n",
        "\n",
        "*Create a main program that tests your function with at least 4 different pairs of numbers. Provide the solution and an explanation of your solution in a notebook. Your explanation must include a description of what you have done to implement your GDF() function and a detailed example of how the function would behave for one particular pair of numbers (function calls, parameters, returns, program state).*\n",
        "\n",
        "\n",
        "---\n",
        "\n"
      ],
      "metadata": {
        "id": "F2-Pk1TMAfKI"
      }
    },
    {
      "cell_type": "markdown",
      "source": [
        "## Natasha's Explanation of Solution\n",
        "#### **Description of What Natasha Did to Implement her GCF() Function**\n",
        "At the start of my GCF() function, I first need to figure out which input from the user is the larger integer. If input \"a\" is larger than input \"b\", then I set a new variable \"high\" equal to \"a\" and another new variable \"low\" equal to \"b\". If \"b\" is greater than \"a\", then I set \"b\" equal to \"high\" and \"a\" equal to \"low\". Next, I initialize the \"r\" variable with something silly to enter the while loop. While \"r\" does not equal zero, the code remains in the while loop. Inside the while loop, the \"high\" number is divided by the \"low\" number, and the remainder of that division is saved in the variable \"r\". Then the code checks to see if the remainder \"r\" is equal to zero. If the remainder \"r\" is not equal to zero, then I need to keep doing successive division. So the \"high\" variable is redefined as the \"low\" number in the previous division, and the \"low\" variable is redefined as the remainder \"r\". Then the code would go back to the top of the while loop and do the same division again. Once the remainder \"r\" becomes equal to zero, the code exits the while loop and skips over the if statement (where \"high\" and \"low\" get redefined). Then a new variable \"gcf\" gets defined as equal to \"low\" (the \"low\" number from the last time through the while loop). Finally, the function returns the \"gcf\" variable.\n"
      ],
      "metadata": {
        "id": "sSCNnYIdBxts"
      }
    },
    {
      "cell_type": "code",
      "source": [
        "def GCF(a, b):\n",
        "    # Figure out which input is bigger\n",
        "    # if input \"a\" is greater than input \"b\"\n",
        "    if a > b:\n",
        "      # set \"high\" to be equal to \"a\"\n",
        "      high = a\n",
        "      # set \"low\" to be equal to \"b\"\n",
        "      low = b\n",
        "    # if input \"b\" is greater than input \"a\"\n",
        "    else:\n",
        "      # set \"high\" to be equal to \"b\"\n",
        "      high = b\n",
        "      # set \"low\" to be equal to \"a\"\n",
        "      low = a\n",
        "\n",
        "    # ininitalize \"r\" with something silly to enter the while loop\n",
        "    r = 100\n",
        "\n",
        "    # while the remainder of the division is not equal to 0\n",
        "    while r != 0:\n",
        "      # divide the \"high\" number by the \"low\" number and save the remainder in \"r\"\n",
        "      r = high % low\n",
        "      # if \"r\" does not equal 0\n",
        "      if r != 0:\n",
        "        # redefine \"high\" as the previously \"low\" number\n",
        "        high = low\n",
        "        # redefine \"low\" as the remainder (\"r\") from the above division\n",
        "        low = r\n",
        "\n",
        "    # save low from the last time through the while loop as \"gcf\" variable\n",
        "    gcf = low\n",
        "\n",
        "    # return the greatest common factor\n",
        "    return gcf"
      ],
      "metadata": {
        "id": "_7gDdhpHJCMs"
      },
      "execution_count": 1,
      "outputs": []
    },
    {
      "cell_type": "markdown",
      "source": [
        "#### **Description of What Natasha Did to Implement her main() Function**\n",
        "Next I define the main() function. The first thing I do is welcome the user with some print statements. Then I initialize the \"goodToGo\" variable and set it to False. This makes the code enter a while loop where the user will remain until their inputs are correct. Inside the while loop, the code tries to get the user's inputs and convert them to integer objects. If the \"try\" statement fails, the user is sent an error and would be returned to the top of the while loop. If the \"try\" statement is successful, the code would move on to the \"else\" statement. Inside the \"else\", the code checks to see if both inputs are greater than zero (ie checks to see if the inputs are positive numbers). If the numbers are both positive, then the \"goodToGo\" variable gets redefined as \"True\", which would cause the code to exit the while loop. If either of the inputs is not greater than zero (ie they are not positive numbers), the user gets an error and the code returns to the top of the while loop again. \n",
        "\n",
        "After ensuring that both the user's inputs are positive integers, the code calls the GCF() function defined above and feeds the user's two inputs into the GCF() function. The output from the GCF() function is stored in the \"userGCF\" variable.\n",
        "\n",
        "Finally, the program tells the user what their greatest common factor is and the program ends. "
      ],
      "metadata": {
        "id": "SsZ3uUWjFXsy"
      }
    },
    {
      "cell_type": "code",
      "source": [
        "# define the main function\n",
        "def main():\n",
        "  # welcome the user\n",
        "  print(\"Welcome!\")\n",
        "  print(\"Let's find the greatest common factor for two integers of your choice.\")\n",
        "  print(\"Pleae input two positive integers:\")\n",
        "\n",
        "  # keep the user in a while loop until their inputs are correct\n",
        "  # initialize a dummy variable to enter the while loop\n",
        "  goodToGo = False\n",
        "  while goodToGo == False:\n",
        "    try:\n",
        "      # try to get inputs from the user and convert them to integers\n",
        "      c1 = int(input(\"\\nYour first choice: \"))\n",
        "      c2 = int(input(\"Your second choice: \"))\n",
        "    except:\n",
        "      # if the try statement above fails, send an error and send the user back to the top of the while loop\n",
        "      print(\"ERROR: Your inputs must be positive INTEGERS.\")\n",
        "      print(\"Try again\")\n",
        "    # if the try statement was successful (i.e. if there was not an exception and both inputs are integers)\n",
        "    else:\n",
        "      # if both inputs are positive numbers\n",
        "      if c1 > 0 and c2 > 0:\n",
        "        # change the \"goodToGo\" variable to exit the while loop\n",
        "        goodToGo = True\n",
        "      else:\n",
        "        # if the user's inputs are not positive numbers, send an error and send the user back to the top of the while loop\n",
        "        print(\"ERROR: Your inputs must be POSITIVE integers.\")\n",
        "        print(\"Try again\")\n",
        "\n",
        "  # call the GCF function and input the user's two integers\n",
        "  userGCF = GCF(c1, c2)\n",
        "\n",
        "  # tell the user what their greatest common factor is for their two input integers\n",
        "  print(\"\\nFor\", c1, \"and\", c2, \", the greatest common factor is\", userGCF)\n",
        "\n",
        "  # thank the user\n",
        "  print(\"\\nThank you for participating! This program is now closed.\")\n"
      ],
      "metadata": {
        "id": "B5kxLYjd0avB"
      },
      "execution_count": 2,
      "outputs": []
    },
    {
      "cell_type": "markdown",
      "source": [
        "#### **Detailed Example of How the Function Would Behave for One Particular Pair of Numbers**\n",
        "I will walk through how my function would work when trying to find the greatest common factor of 48 and 30. Assuming that the user inputs 48 and 30 correctly, my program would move past my exception handling code within my main() function. Then my GCF() function gets called and the user's two inputs (here 48 & 30) get fed into the GCF() function. \n",
        "\n",
        "First my function would decide which input (48 & 30) is greater. 48 is greater than 30, so the \"high\" variable would be set to 48 and \"low\" variable would be set to 30.\n",
        "\n",
        "Then the function would enter the while loop, which will continue until \"r\" = 0. Inside the while loop, the \"high\" variable (48) is divided by the \"low\" variable (30), and the remainder (12) gets stored in the variable \"r\". Then the code checks if \"r\" is not equal to zero. If \"r\" != 0, then \"high\" gets redefined with the \"low\" number in the previous division (so high = 30), and \"low\" gets redefined with the remainder \"r\" (so low = 12). Then the code returns to the top of the while loop because \"r\" still does not equal 0. \n",
        "\n",
        "The next time through the while loop, the same sequence happens. So high = 30, low = 12, r = 12. \"High\" gets divided by \"low\" and the remainder is stored in the \"r\" variable (so now r = 6). \"High\" gets redefined by the previous \"low\" (so now high = 12) and \"low\" gets redefined by the remainder \"r\" (so low = 6). The code returns to the top of the while loop again because \"r\" is still not equal to 0.\n",
        "\n",
        "The next time through the while loop, the same sequence happens again. So high = 12, low = 6, r = 6. \"High\" gets divided by \"low\" and the remainder is stored in the \"r\" variable (so now r = 0). Because \"r\" is now equal to 0, the code would skip over the \"if\" statement, so the redefining of \"high\" and \"low\" would not happen. And because \"r\" is now equal to 0, the code would exit the while loop. \n",
        "\n",
        "So \"low\" is still equal to 6. Finally, the \"gcf\" variable would be set equal to \"low\" (so gcf = 6), and the function returns \"gcf\"."
      ],
      "metadata": {
        "id": "GVwL4AaGHy4G"
      }
    },
    {
      "cell_type": "markdown",
      "source": [
        "#### **Example 1**"
      ],
      "metadata": {
        "id": "rFhIxZlIsPFp"
      }
    },
    {
      "cell_type": "code",
      "source": [
        "# example using 48 & 30\n",
        "main()"
      ],
      "metadata": {
        "colab": {
          "base_uri": "https://localhost:8080/"
        },
        "id": "Pv4uBD2W3VVN",
        "outputId": "f4c9064a-497e-44cc-920a-df26ae0fcc1b"
      },
      "execution_count": 3,
      "outputs": [
        {
          "output_type": "stream",
          "name": "stdout",
          "text": [
            "Welcome!\n",
            "Let's find the greatest common factor for two integers of your choice.\n",
            "Pleae input two positive integers:\n",
            "\n",
            "Your first choice: 48\n",
            "Your second choice: 30\n",
            "\n",
            "For 48 and 30 , the greatest common factor is 6\n",
            "\n",
            "Thank you for participating! This program is now closed.\n"
          ]
        }
      ]
    },
    {
      "cell_type": "markdown",
      "source": [
        "#### **Example 2**\n",
        "Here I will also demonstrate how my code is catching exceptions and ensuring the user is inputting positive integers"
      ],
      "metadata": {
        "id": "QR7THoTKIEU2"
      }
    },
    {
      "cell_type": "code",
      "source": [
        "# example using 12 & 16\n",
        "main()"
      ],
      "metadata": {
        "colab": {
          "base_uri": "https://localhost:8080/"
        },
        "id": "o7UFS6RPwrZk",
        "outputId": "4801cdf8-fff7-49e6-966c-c36a31d0c1ad"
      },
      "execution_count": 4,
      "outputs": [
        {
          "output_type": "stream",
          "name": "stdout",
          "text": [
            "Welcome!\n",
            "Let's find the greatest common factor for two integers of your choice.\n",
            "Pleae input two positive integers:\n",
            "\n",
            "Your first choice: ewifheuks\n",
            "ERROR: Your inputs must be positive INTEGERS.\n",
            "Try again\n",
            "\n",
            "Your first choice: -45\n",
            "Your second choice: 45\n",
            "ERROR: Your inputs must be POSITIVE integers.\n",
            "Try again\n",
            "\n",
            "Your first choice: 12\n",
            "Your second choice: 16\n",
            "\n",
            "For 12 and 16 , the greatest common factor is 4\n",
            "\n",
            "Thank you for participating! This program is now closed.\n"
          ]
        }
      ]
    },
    {
      "cell_type": "markdown",
      "source": [
        "#### **Example 3**"
      ],
      "metadata": {
        "id": "BbKVTXeoImT5"
      }
    },
    {
      "cell_type": "code",
      "source": [
        "# example using 30 & 42\n",
        "main()"
      ],
      "metadata": {
        "colab": {
          "base_uri": "https://localhost:8080/"
        },
        "id": "VrHrUVfOzb8e",
        "outputId": "831011e4-5bb3-4822-ca5b-4efd544b6ab5"
      },
      "execution_count": 5,
      "outputs": [
        {
          "output_type": "stream",
          "name": "stdout",
          "text": [
            "Welcome!\n",
            "Let's find the greatest common factor for two integers of your choice.\n",
            "Pleae input two positive integers:\n",
            "\n",
            "Your first choice: 30\n",
            "Your second choice: 42\n",
            "\n",
            "For 30 and 42 , the greatest common factor is 6\n",
            "\n",
            "Thank you for participating! This program is now closed.\n"
          ]
        }
      ]
    },
    {
      "cell_type": "markdown",
      "source": [
        "#### **Example 4**"
      ],
      "metadata": {
        "id": "BxFoGwnlImsW"
      }
    },
    {
      "cell_type": "code",
      "source": [
        "# example using 36 & 24\n",
        "main()"
      ],
      "metadata": {
        "colab": {
          "base_uri": "https://localhost:8080/"
        },
        "id": "aoS37xI1zjQF",
        "outputId": "baa3fd76-6505-408a-9c9d-2bfae88120ed"
      },
      "execution_count": 6,
      "outputs": [
        {
          "output_type": "stream",
          "name": "stdout",
          "text": [
            "Welcome!\n",
            "Let's find the greatest common factor for two integers of your choice.\n",
            "Pleae input two positive integers:\n",
            "\n",
            "Your first choice: 36\n",
            "Your second choice: 24\n",
            "\n",
            "For 36 and 24 , the greatest common factor is 12\n",
            "\n",
            "Thank you for participating! This program is now closed.\n"
          ]
        }
      ]
    }
  ]
}
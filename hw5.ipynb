{
  "cells": [
    {
      "cell_type": "markdown",
      "metadata": {
        "id": "view-in-github",
        "colab_type": "text"
      },
      "source": [
        "<a href=\"https://colab.research.google.com/github/NKWesely/INF502_assignments/blob/main/hw5.ipynb\" target=\"_parent\"><img src=\"https://colab.research.google.com/assets/colab-badge.svg\" alt=\"Open In Colab\"/></a>"
      ]
    },
    {
      "cell_type": "markdown",
      "metadata": {
        "id": "wmh6nhcJH4Xt"
      },
      "source": [
        "# INF 502 HW 5\n",
        "# Divide & Conquer Assignment\n",
        "### Natasha Wesely\n",
        "### November 29, 2022\n",
        "\n",
        "---\n",
        "\n"
      ]
    },
    {
      "cell_type": "markdown",
      "metadata": {
        "id": "Etz4-5n_H8O2"
      },
      "source": [
        "### *Instructions:*\n",
        "*Two positive integers always have common factors. For example, the common factors 12 and 18 are 1, 2, 3, and 6 because 12 and 18 are both divisible by these numbers.*\n",
        "\n",
        "*The greatest common factor (GCF) of a number is the largest number by which both numbers are divisible. In the example, the number 6 is the GFC of 12 and 18.*\n",
        "\n",
        "*There are at least two methods for calculating GDF of two numbers. One is the method of successive divisions. In this process, we make several divisions until we reach an exact division. The divisor of this division is the GDF. For example, for the 48 and 30 we have the following:*\n",
        "\n",
        "1. *We divide the largest number by the smallest number: 48/30 = 1 (with remainder of 18)*\n",
        "\n",
        "2. *We divide 30 (the divisor of the previous division) by 18 (the remainder of the previous division) and so on:*\n",
        "\n",
        " *30/18 = 1 (with remainder of 12)*\n",
        "\n",
        " *18/12 = 1 (with remainder of 6)*\n",
        "\n",
        " *12/6 = 2 (exact division)*\n",
        "\n",
        "3. *The divisor of the exact division is 6. So the GDF of 48 and 30 is 6.*"
      ]
    },
    {
      "cell_type": "markdown",
      "metadata": {
        "id": "F2-Pk1TMAfKI"
      },
      "source": [
        "### *Your Task:*\n",
        "*Implement a \"divide and conquer\" function GDF(a,b) that solves the GDF problem for any two positive integers a and b.*\n",
        "\n",
        "*Create a main program that tests your function with at least 4 different pairs of numbers. Provide the solution and an explanation of your solution in a notebook. Your explanation must include a description of what you have done to implement your GDF() function and a detailed example of how the function would behave for one particular pair of numbers (function calls, parameters, returns, program state).*\n",
        "\n",
        "\n",
        "---\n",
        "\n"
      ]
    },
    {
      "cell_type": "markdown",
      "metadata": {
        "id": "sSCNnYIdBxts"
      },
      "source": [
        "## Natasha's Explanation of Solution\n",
        "#### **Description of What Natasha Did to Implement her GCF() Function**\n",
        "At the start of my GCF() function, I first need to figure out which input from the user is the larger integer. If input \"a\" is larger than input \"b\", the high number \"a\" is divided by the low number \"b\", and the remainder of that division is saved in the variable \"r\". Then the code checks to see if the remainder \"r\" is equal to zero. If the remainder \"r\" is equal to zero, then I return the low number from the previous division (\"b\") as the greatest common factor (\"gcf\").\n",
        "\n",
        "If the remainder \"r\" is not equal to zero, then I need to keep doing successive division. I do this by calling the GCF() again, but this time I feed it \"b\" for the first input, and the remainder \"r\" as the second input. This means that in the next round of division, the low number in the previous division (\"b\") will be the high number in the next division, and the remainder from the previous division (\"r\") will be the low number in the next division.\n",
        "\n",
        "This would continue happening until the remainder \"r\" was equal to zero. So the function GCF() would continue to be recursively called until the greatest common factor is found (which is indicated by the remainder \"r\" = 0).\n",
        "\n",
        "If the user's input \"a\" is not larger than the user's input \"b\", then the code moves to the \"else\" statement towards the bottom of the function definition (line 23 in code chunk below). Within the \"else\" statement, the GCF() function is also called again, but this time feeding the user's input \"b\" as the first input and the user's input \"a\" as the second input into the GCF() fucntion. Then in the second call of GCF(), the user's input \"b\" would be passed as the new input \"a\", so then \"a\" would be larger than \"b\", and the if statement (in line 6 in the code chunk below) would be True, and the recursive division would commence. \n",
        "\n",
        "Ultimately, the greatest common factor variable \"gcf\" is returned from the function. "
      ]
    },
    {
      "cell_type": "code",
      "execution_count": 1,
      "metadata": {
        "id": "_7gDdhpHJCMs"
      },
      "outputs": [],
      "source": [
        "# define the Greatest Common Factor function\n",
        "\n",
        "def GCF(a, b):\n",
        "\n",
        "    # if input \"a\" is greater than input \"b\"\n",
        "    if a > b:\n",
        "      # divide the high number (a) by the low number (b) and save the remainder in \"r\"\n",
        "      r = a % b\n",
        "      # if the remainder of the above division is equal to 0\n",
        "      if r == 0:\n",
        "        # return the low number (b) in the division above as the devisor\n",
        "        gcf = b\n",
        "      \n",
        "      # if the remainder from the division above does NOT equal 0\n",
        "      else:\n",
        "        # call the GCF() function again\n",
        "        # recursively divide again\n",
        "        # now the high number in the next division will be the low number from the previous division\n",
        "        # the low number in the next division will the remainder from the previous divison\n",
        "        gcf = GCF(a = b, b = r)\n",
        "    \n",
        "    # if input \"a\" is NOT greater than input \"b\"\n",
        "    else:\n",
        "      # run this function with the correct ordering of the inputs\n",
        "      # this will essentially run the code above, \n",
        "      # but with input \"b\" as the high number and input \"a\" as the low number\n",
        "      gcf = GCF(b, a)\n",
        "    \n",
        "    return gcf"
      ]
    },
    {
      "cell_type": "markdown",
      "metadata": {
        "id": "SsZ3uUWjFXsy"
      },
      "source": [
        "#### **Description of What Natasha Did to Implement her main() Function**\n",
        "Next, I define the main() function. The first thing I do is welcome the user with some print statements. Then I initialize the \"goodToGo\" variable and set it to False. This makes the code enter a while loop where the user will remain until their inputs are correct. Inside the while loop, the code tries to get the user's inputs and convert them to integer objects. If the \"try\" statement fails, the user is sent an error and would be returned to the top of the while loop. If the \"try\" statement is successful, the code would move on to the \"else\" statement. Inside the \"else\", the code checks to see if both inputs are greater than zero (ie checks to see if the inputs are positive numbers). If the numbers are both positive, then the \"goodToGo\" variable gets redefined as \"True\", which would cause the code to exit the while loop. If either of the inputs is not greater than zero (ie they are not positive numbers), the user gets an error and the code returns to the top of the while loop again. \n",
        "\n",
        "After ensuring that both the user's inputs are positive integers, the code calls the GCF() function defined above and feeds the user's two inputs into the GCF() function. The output from the GCF() function is stored in the \"userGCF\" variable.\n",
        "\n",
        "Finally, the program tells the user what their greatest common factor is and the program ends. "
      ]
    },
    {
      "cell_type": "code",
      "execution_count": 2,
      "metadata": {
        "id": "B5kxLYjd0avB"
      },
      "outputs": [],
      "source": [
        "# define the main function\n",
        "def main():\n",
        "  # welcome the user\n",
        "  print(\"Welcome!\")\n",
        "  print(\"Let's find the greatest common factor for two integers of your choice.\")\n",
        "  print(\"Pleae input two positive integers:\")\n",
        "\n",
        "  # keep the user in a while loop until their inputs are correct\n",
        "  # initialize a dummy variable to enter the while loop\n",
        "  goodToGo = False\n",
        "  while goodToGo == False:\n",
        "    try:\n",
        "      # try to get inputs from the user and convert them to integers\n",
        "      c1 = int(input(\"\\nYour first choice: \"))\n",
        "      c2 = int(input(\"Your second choice: \"))\n",
        "    except:\n",
        "      # if the try statement above fails, send an error and send the user back to the top of the while loop\n",
        "      print(\"ERROR: Your inputs must be positive INTEGERS.\")\n",
        "      print(\"Try again\")\n",
        "    # if the try statement was successful (i.e. if there was not an exception and both inputs are integers)\n",
        "    else:\n",
        "      # if both inputs are positive numbers\n",
        "      if c1 > 0 and c2 > 0:\n",
        "        # change the \"goodToGo\" variable to exit the while loop\n",
        "        goodToGo = True\n",
        "      else:\n",
        "        # if the user's inputs are not positive numbers, send an error and send the user back to the top of the while loop\n",
        "        print(\"ERROR: Your inputs must be POSITIVE integers.\")\n",
        "        print(\"Try again\")\n",
        "\n",
        "  # call the GCF function and input the user's two integers\n",
        "  userGCF = GCF(c1, c2)\n",
        "\n",
        "  # tell the user what their greatest common factor is for their two input integers\n",
        "  print(\"\\nFor\", c1, \"and\", c2, \", the greatest common factor is\", userGCF)\n",
        "\n",
        "  # thank the user\n",
        "  print(\"\\nThank you for participating!\\nThis program is now closed.\")\n"
      ]
    },
    {
      "cell_type": "markdown",
      "metadata": {
        "id": "GVwL4AaGHy4G"
      },
      "source": [
        "#### **Detailed Example of How the Function Would Behave for One Particular Pair of Numbers**\n",
        "I will walk through how my function would work when trying to find the greatest common factor of 48 and 30. Assuming that the user inputs 48 and 30 correctly, my program would move past my exception handling code within my main() function. Then my GCF() function gets called and the user's two inputs (here c1 = 48 & c2 = 30) get fed into the GCF() function. So, \"c1\" would become input \"a\" and \"c2\" would become input \"b\" in the GCF() function.\n",
        "\n",
        "First, my GCF() function would test to see if input \"a\" (48) is greater than input \"b\" (30). 48 is greater than 30, so the if test would be True, and the code would move inside the if statement.\n",
        "\n",
        "Next, the \"a\" (48) is divided by the \"b\" variable (30), and the remainder (18) gets stored in the variable \"r\". Then the code tests if \"r\" is equal to zero. \"r\" = 18, so the if statement would be False, so the code would move to the else statement. \n",
        "\n",
        "Inside the else statement (line 15 in code chunk above), the variable \"gcf\" is defined by another call of the GCF() function. With this new call of the GCF() function, the low number from the previous divison (\"b\" = 30) is passed as the first argument and the remainder from the previous division (\"r\" = 18) is passed as the second argument. \n",
        "\n",
        "So now (in the the second call of GCF()), \"a\" = 30 and \"b\" = 18. By calling GCF() again, we go back to the start of the function definition. So the code would first test to see if input \"a\" (30) is greater than input \"b\" (18). 30 is greater than 18, so the if test would be True, and the code would move inside the if statement.\n",
        "\n",
        "Next, \"a\" (30) is divided by \"b\" (18), and the remainder (12) gets stored in the variable \"r\". Then the code tests if \"r\" is equal to zero. \"r\" = 12, so the if statement would be False, so the code would move to the else statement. \n",
        "\n",
        "Inside the else statement (line 15 in code chunk above), the variable \"gcf\" is defined by another call of the GCF() function. With this new call of the GCF() function, the low number from the previous divison (\"b\" = 18) is passed as the first argument and the remainder from the previous division (\"r\" = 12) is passed as the second argument. \n",
        "\n",
        "So now (in the the third call of GCF()), \"a\" = 18 and \"b\" = 12. By calling GCF() again, we go back to the start of the function definition. So the code would first test to see if input \"a\" (18) is greater than input \"b\" (12). 18 is greater than 12, so the if test would be True, and the code would move inside the if statement.\n",
        "\n",
        "Next, the \"a\" (18) is divided by \"b\" (12), and the remainder (6) gets stored in the variable \"r\". Then the code tests if \"r\" is equal to zero. \"r\" = 6, so the if statement would be False, so the code would move to the else statement. \n",
        "\n",
        "Inside the else statement (line 15 in code chunk above), the variable \"gcf\" is defined by another call of the GCF() function. With this new call of the GCF() function, the low number from the previous divison (\"b\" = 12) is passed as the first argument and the remainder from the previous division (\"r\" = 6) is passed as the second argument. \n",
        "\n",
        "So now (in the the fourth call of GCF()), \"a\" = 12 and \"b\" = 6. By calling GCF() again, we go back to the start of the function definition. So the code would first test to see if input \"a\" (12) is greater than input \"b\" (6). 12 is greater than 6, so the if test would be True, and the code would move inside the if statement.\n",
        "\n",
        "Next, the \"a\" (12) is divided by \"b\" (2), and the remainder (0) gets stored in the variable \"r\". Then the code tests if \"r\" is equal to zero. \"r\" = 0, so the if statement would be True. Because \"r\" == 0, the variable \"gcf\" would be set equal to the low number in the previous division (\"b\" = 6). \n",
        "\n",
        "Within this fourth call of GCF(), the function can finally return the variable \"gcf\". So \"gcf\" = 6 is returned to the third GCF() function call. This would define \"gcf\" as equal to 6 within the thrid GCF() call, which would send gcf = 6 up the second GCF() call. This would then send gcf = 6 to the first GCF() call. \n",
        "\n",
        "Finally, gcf = 6 would be returned to my main() function. Within the main() function, the return from the first GCF() call is saved in the new variable \"userGCF\". The main() function prints out a message with \"userGCF\" to tell the user what their greatest common factor is, and the program ends."
      ]
    },
    {
      "cell_type": "markdown",
      "metadata": {
        "id": "rFhIxZlIsPFp"
      },
      "source": [
        "#### **Example 1**"
      ]
    },
    {
      "cell_type": "code",
      "execution_count": 3,
      "metadata": {
        "colab": {
          "base_uri": "https://localhost:8080/"
        },
        "id": "Pv4uBD2W3VVN",
        "outputId": "4ba51e6b-a582-4f58-a314-4d49f917a5a1"
      },
      "outputs": [
        {
          "output_type": "stream",
          "name": "stdout",
          "text": [
            "Welcome!\n",
            "Let's find the greatest common factor for two integers of your choice.\n",
            "Pleae input two positive integers:\n",
            "\n",
            "Your first choice: 48\n",
            "Your second choice: 30\n",
            "\n",
            "For 48 and 30 , the greatest common factor is 6\n",
            "\n",
            "Thank you for participating!\n",
            "This program is now closed.\n"
          ]
        }
      ],
      "source": [
        "# example using 48 & 30\n",
        "main()"
      ]
    },
    {
      "cell_type": "markdown",
      "metadata": {
        "id": "QR7THoTKIEU2"
      },
      "source": [
        "#### **Example 2**\n",
        "Here, I will also demonstrate how my code is catching exceptions and ensuring the user is inputting positive integers"
      ]
    },
    {
      "cell_type": "code",
      "execution_count": 4,
      "metadata": {
        "colab": {
          "base_uri": "https://localhost:8080/"
        },
        "id": "o7UFS6RPwrZk",
        "outputId": "e1c1a1ee-71ca-4b12-e88e-66e538bc30ca"
      },
      "outputs": [
        {
          "output_type": "stream",
          "name": "stdout",
          "text": [
            "Welcome!\n",
            "Let's find the greatest common factor for two integers of your choice.\n",
            "Pleae input two positive integers:\n",
            "\n",
            "Your first choice: 2.345436\n",
            "ERROR: Your inputs must be positive INTEGERS.\n",
            "Try again\n",
            "\n",
            "Your first choice: -45\n",
            "Your second choice: 36\n",
            "ERROR: Your inputs must be POSITIVE integers.\n",
            "Try again\n",
            "\n",
            "Your first choice: 12\n",
            "Your second choice: 16\n",
            "\n",
            "For 12 and 16 , the greatest common factor is 4\n",
            "\n",
            "Thank you for participating!\n",
            "This program is now closed.\n"
          ]
        }
      ],
      "source": [
        "# example using 12 & 16\n",
        "main()"
      ]
    },
    {
      "cell_type": "markdown",
      "metadata": {
        "id": "BbKVTXeoImT5"
      },
      "source": [
        "#### **Example 3**"
      ]
    },
    {
      "cell_type": "code",
      "execution_count": 5,
      "metadata": {
        "colab": {
          "base_uri": "https://localhost:8080/"
        },
        "id": "VrHrUVfOzb8e",
        "outputId": "1bf973a9-9b18-426e-b0ef-a67a1f17999a"
      },
      "outputs": [
        {
          "output_type": "stream",
          "name": "stdout",
          "text": [
            "Welcome!\n",
            "Let's find the greatest common factor for two integers of your choice.\n",
            "Pleae input two positive integers:\n",
            "\n",
            "Your first choice: 30\n",
            "Your second choice: 42\n",
            "\n",
            "For 30 and 42 , the greatest common factor is 6\n",
            "\n",
            "Thank you for participating!\n",
            "This program is now closed.\n"
          ]
        }
      ],
      "source": [
        "# example using 30 & 42\n",
        "main()"
      ]
    },
    {
      "cell_type": "markdown",
      "metadata": {
        "id": "BxFoGwnlImsW"
      },
      "source": [
        "#### **Example 4**"
      ]
    },
    {
      "cell_type": "code",
      "execution_count": 6,
      "metadata": {
        "colab": {
          "base_uri": "https://localhost:8080/"
        },
        "id": "aoS37xI1zjQF",
        "outputId": "9f239ba8-46bd-49e4-a4a5-d3bfd2b3cd68"
      },
      "outputs": [
        {
          "output_type": "stream",
          "name": "stdout",
          "text": [
            "Welcome!\n",
            "Let's find the greatest common factor for two integers of your choice.\n",
            "Pleae input two positive integers:\n",
            "\n",
            "Your first choice: 36\n",
            "Your second choice: 24\n",
            "\n",
            "For 36 and 24 , the greatest common factor is 12\n",
            "\n",
            "Thank you for participating!\n",
            "This program is now closed.\n"
          ]
        }
      ],
      "source": [
        "# example using 36 & 24\n",
        "main()"
      ]
    }
  ],
  "metadata": {
    "colab": {
      "provenance": [],
      "authorship_tag": "ABX9TyO1kx0RSY66VtFHr51QOeVK",
      "include_colab_link": true
    },
    "kernelspec": {
      "display_name": "Python 3",
      "name": "python3"
    },
    "language_info": {
      "name": "python"
    }
  },
  "nbformat": 4,
  "nbformat_minor": 0
}
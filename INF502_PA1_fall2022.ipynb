{
  "nbformat": 4,
  "nbformat_minor": 0,
  "metadata": {
    "colab": {
      "provenance": [],
      "authorship_tag": "ABX9TyPQrp1E+nwFgmTj64Ul9WRd",
      "include_colab_link": true
    },
    "kernelspec": {
      "name": "python3",
      "display_name": "Python 3"
    },
    "language_info": {
      "name": "python"
    }
  },
  "cells": [
    {
      "cell_type": "markdown",
      "metadata": {
        "id": "view-in-github",
        "colab_type": "text"
      },
      "source": [
        "<a href=\"https://colab.research.google.com/github/NKWesely/INF502_assignments/blob/main/INF502_PA1_fall2022.ipynb\" target=\"_parent\"><img src=\"https://colab.research.google.com/assets/colab-badge.svg\" alt=\"Open In Colab\"/></a>"
      ]
    },
    {
      "cell_type": "markdown",
      "source": [
        "# INF 502 PA 1\n",
        "### Natasha Wesely\n",
        "### October 13, 2022\n",
        "\n"
      ],
      "metadata": {
        "id": "lw_SXPP2A8i4"
      }
    },
    {
      "cell_type": "markdown",
      "source": [
        "## Description of My Approach to Solve the Problem\n",
        "\n",
        "To create this program, I broke the code into four main sections: a function to read in the files (\"fileToList()\"), a function to compare the DNA sequences with the \"Number of Matches\" approach (\"shifter()\"), a function to compare the DNA sequecnes with the \"Maximum Contiguous Chain\" approach (\"maxChain()\"), and a main function (\"main()\").\n",
        "\n",
        "Below I give a paragraph about each of the four sections and then show my code for that section."
      ],
      "metadata": {
        "id": "XJq5_cDFoXAZ"
      }
    },
    {
      "cell_type": "markdown",
      "source": [
        "*Because I am submitting this assignment as a google collab, I have to have the code chunk below to link my google drive (which has my text files with the DNA sequences) to this notebook. However, this code chunk is not relevant to anything else and it does not affect my program. So just ignore it!*"
      ],
      "metadata": {
        "id": "mKuuaoO2uSXi"
      }
    },
    {
      "cell_type": "code",
      "source": [
        "from google.colab import drive\n",
        "drive.mount('/content/gdrive')"
      ],
      "metadata": {
        "colab": {
          "base_uri": "https://localhost:8080/"
        },
        "id": "AmHWQ_YRE7X_",
        "outputId": "7433c1e3-47d4-4722-cfe2-6384bba7d732"
      },
      "execution_count": 18,
      "outputs": [
        {
          "output_type": "stream",
          "name": "stdout",
          "text": [
            "Drive already mounted at /content/gdrive; to attempt to forcibly remount, call drive.mount(\"/content/gdrive\", force_remount=True).\n"
          ]
        }
      ]
    },
    {
      "cell_type": "markdown",
      "source": [
        "The first function I define is a function to read in the file that contains the DNA sequence. This function opens the file and reads the file. Then the function loops through each element in the character string from the input file and puts each element into a list (i.e., each character becomes it's own element in the new list). "
      ],
      "metadata": {
        "id": "Izx7UothvpFI"
      }
    },
    {
      "cell_type": "code",
      "source": [
        "def fileToList(InputFile):\n",
        "    # combine the file name with the file path\n",
        "    googleDrivePath = \"/content/gdrive/My Drive/INF502_SoftwareDevelopmentMethodologies/PA1/\"\n",
        "    InputFilePath = googleDrivePath + InputFile\n",
        "    # open the input file to be read\n",
        "    InputOpen = open(InputFilePath, 'r')\n",
        "    # read in the input file\n",
        "    InputRead = InputOpen.read()\n",
        "    # close the input file\n",
        "    InputOpen.close()\n",
        "    # create an empty list that we can append to\n",
        "    outList = []\n",
        "    # loop through each element in the character string (from the file) and put them in a list\n",
        "    for i in range(len(InputRead)):\n",
        "        # append each character to the output list\n",
        "        outList.append(InputRead[i])\n",
        "    return outList"
      ],
      "metadata": {
        "id": "2M0xYxmnF5wm"
      },
      "execution_count": 19,
      "outputs": []
    },
    {
      "cell_type": "markdown",
      "source": [
        "Next I define shifter(), which is the function I use to execute the Number of Matches approach. The function takes in two DNA sequences in the form of two lists, and the number of shifts to try. The function first shifts the DNA sequences by either inserting or appending empty elements to the lists (DNA sequences). Then the function loops through each element in the (shifted) DNA sequences and counts how many matches there are between the two sequences. I keep track of the number of total matches for each shift in a list (\"numbMatches\"), and then find the max of that list to infer what the best shift is. I then return the best shift, how many total nucleotide matches there are at the best shift, and what each DNA sequence looks like at the best shift."
      ],
      "metadata": {
        "id": "eUPZ81mToQe8"
      }
    },
    {
      "cell_type": "code",
      "source": [
        "def shifter(str1, str2, shifts):\n",
        "    # create an empty lists that keeps track of the number of shifts \n",
        "    shiftTried = []\n",
        "    # create an empty list that keeps track of the number of matches\n",
        "    numbMatches = []\n",
        "    # create empty lists to keep track of what the DNA sequences look like at each shift\n",
        "    shiftSeq1 = []\n",
        "    shiftSeq2 = []\n",
        "    \n",
        "    # loop through each shift\n",
        "    for s in range(shifts + 1):\n",
        "        # record the shift number\n",
        "        shiftTried.append(s)\n",
        "        \n",
        "        # shift the DNA sequences \n",
        "        if s != 0: # if the shift does not equal 0\n",
        "            # shift the first string to the right\n",
        "            # by adding one empty element at the start of the string\n",
        "            str1.insert(0, \"\")\n",
        "            # shift the second string to the left\n",
        "            # by adding one empty element at the end of the string\n",
        "            str2.append(\"\")\n",
        "            \n",
        "        # record what the DNA sequences look at like at this shift\n",
        "        shiftSeq1.append(str1.copy())\n",
        "        shiftSeq2.append(str2.copy())\n",
        "        \n",
        "        # create an counter to track the number of matches for this shift\n",
        "        matchCounter = 0\n",
        "        \n",
        "        # loop through each element in both lists \n",
        "        for i in range(len(str1)):\n",
        "            # check to see if the two elements match\n",
        "            if str1[i] == str2[i]:\n",
        "                # if the elements match,\n",
        "                # add 1 to the match counter \n",
        "                matchCounter = matchCounter+1\n",
        "        # record the number of matches at this shift\n",
        "        numbMatches.append(matchCounter)\n",
        "        \n",
        "        # what is the highest number of matches?\n",
        "        totMatches = max(numbMatches)\n",
        "        # what is the index for the best shift?\n",
        "        bestIndex = numbMatches.index(totMatches)\n",
        "        # which shift gives the user the highest number of matches?\n",
        "        bestShift = shiftTried[bestIndex]\n",
        "        # what does the first DNA sequence look like at the best shift?\n",
        "        bestShiftSeq1 = shiftSeq1[bestIndex]\n",
        "        # what does the first DNA sequence look like at the best shift?\n",
        "        bestShiftSeq2 = shiftSeq2[bestIndex]\n",
        "    \n",
        "    # return all the important information to the user\n",
        "    return bestShift, totMatches, bestShiftSeq1, bestShiftSeq2\n"
      ],
      "metadata": {
        "id": "wTtYJLVLoR8H"
      },
      "execution_count": 20,
      "outputs": []
    },
    {
      "cell_type": "markdown",
      "source": [
        "\n",
        "Next I define maxChain(), which is the function I use to execute the Maximum Contiguous Chain approach. Similarily to shifter(), this function takes in two DNA sequences and the number of shifts to try. The function first shifts the DNA sequences by either inserting or appending empty elements to the lists (DNA sequences). Then the function loops through each element in the (shifted) DNA sequences. If the two elements match, 1 gets added to my matching counter (\"matchCounter\") object. If the next element also matches, another 1 gets added to my matchCounter. If the next element does not match, the matchCounter gets reset to zero. Whenever matchCounter becomes greater than maxCount (which is initalized at zero), then the number in matchCounter is attributed to maxCount. I keep track of what the maximum contiguous chain for each shift in a list (\"numbContMatches\"). Then I find the max of that list to infer what the best shift is. I then return the best shift, the maximum number of contiguous matches, and what each DNA sequence looks like at the best shift.\n"
      ],
      "metadata": {
        "id": "lqi55dyroaG2"
      }
    },
    {
      "cell_type": "code",
      "source": [
        "def maxChain(str1, str2, shifts):\n",
        "    # create an empty lists that keeps track of the number of shifts \n",
        "    shiftTried = []\n",
        "    # create an empty list that keeps track of the number of matches\n",
        "    numbContMatches = []\n",
        "    # create an empty lists to keep track of what the DNA sequences look like at each shift\n",
        "    shiftSeq1 = []\n",
        "    shiftSeq2 = []\n",
        "    \n",
        "    # loop through each shift\n",
        "    for s in range(shifts + 1):\n",
        "        # record the shift number\n",
        "        shiftTried.append(s)\n",
        "        \n",
        "        # shift the DNA sequences \n",
        "        if s != 0: # if the shift does not equal 0\n",
        "            # shift the first string to the right\n",
        "            # by adding one empty element at the start of the string\n",
        "            str1.insert(0, \"\")\n",
        "            # shift the second string to the left\n",
        "            # by adding one empty element at the end of the string\n",
        "            str2.append(\"\")\n",
        "        \n",
        "        # record what the DNA sequences look like at this shift\n",
        "        shiftSeq1.append(str1.copy())\n",
        "        shiftSeq2.append(str2.copy())\n",
        "        \n",
        "        # create tracker objects to count the matches\n",
        "        matchCounter = 0\n",
        "        maxCount = 0\n",
        "       \n",
        "        # loop through each element in both sequence \n",
        "        for i in range(len(str1)):\n",
        "            # check to see if the two elements match\n",
        "            if str1[i] == str2[i]:\n",
        "                # if the elements match,\n",
        "                # add 1 to the match counter\n",
        "                matchCounter = matchCounter+1\n",
        "                # if the match counter is greater than the max count, write over the the current max count with the match counter\n",
        "                if matchCounter > maxCount:\n",
        "                    maxCount = matchCounter\n",
        "            else:\n",
        "                # if the elements don't match,\n",
        "                # reset the match counter\n",
        "                matchCounter = 0\n",
        "        \n",
        "        # record the max continous matches for this shift\n",
        "        numbContMatches.append(maxCount)\n",
        "        \n",
        "        # what is the maximum number of contiguous matches?\n",
        "        maxContMatch = max(numbContMatches)\n",
        "        # what index corresponds to the max?\n",
        "        bestIndex = numbContMatches.index(maxContMatch)\n",
        "        # which shift gives the user the most contiguous matches?\n",
        "        bestShift = shiftTried[bestIndex]\n",
        "        # what do the DNA sequences look like at the best shift?\n",
        "        bestShiftSeq1 = shiftSeq1[bestIndex]\n",
        "        bestShiftSeq2 = shiftSeq2[bestIndex]\n",
        "                \n",
        "    return bestShift, maxContMatch, bestShiftSeq1, bestShiftSeq2\n",
        "    "
      ],
      "metadata": {
        "id": "pEV2WLPcoadK"
      },
      "execution_count": 21,
      "outputs": []
    },
    {
      "cell_type": "markdown",
      "source": [
        "Finally, I define a main() function where I actually use my previously defined functions (above). I first welcome the user with some simple print statements. Then I take the user into a while loop that forces the user to type either \"a\" or \"b\" to select their method to compare the DNA sequences. Then I ask the user for the number of shifts they want to try, but similarily this takes the user into a while loop which catches any input type error (in case the user tries to input something besides an integer value for the shift). Then the user enters yet another while loop that asks the user for file names, and then tries to convert the files into lists with my fileToList() function. This while loop, combined with try/except statements, catches FileNotFoundErrors and checks to make sure the length of the DNA sequences are the same. Finally, the DNA sequence comparison is conducted using either the shifter() function (if the user chose the Number of Matches option), or the maxChain() function (if the user chose the Max Contiguous Chain option). Then I print the important information for the user. "
      ],
      "metadata": {
        "id": "RU72w3NZohPV"
      }
    },
    {
      "cell_type": "code",
      "source": [
        "def main():\n",
        "    ## WELCOME THE USER\n",
        "    print(\"Welcome!\\n\\nLet's figure out how well your two DNA sequences match.\")\n",
        "    print(\"\\nFirst, we need some information from you.\")\n",
        "    \n",
        "    ## GET THE METHOD to be used to compare the DNA\n",
        "    # initialize method sith something silly to enter the while loop\n",
        "    method = 'f'\n",
        "    while (method != 'a') and (method != 'b') :\n",
        "        # ask the user for the method\n",
        "        method = input(\"\\nWhich method would you like to use to compare your DNA sequences?\\nFor number of matches (noncontiguous), type 'a'\\nFor maximum contiguous matches, type 'b' : \")\n",
        "        # if the user inputs something besides a or b\n",
        "        if (method != 'a') and (method != 'b'):\n",
        "            # send the user an error, then the user will be sent to the top of the while loop\n",
        "            print(\"\\nERROR: You must type 'a' or 'b' to select your method. Try again:\")\n",
        "    \n",
        "    ## GET THE SHIFTS to try\n",
        "    # initialize maxShift with something silly so that the code enters the while loop\n",
        "    maxShift = \"a\"\n",
        "    while (isinstance(maxShift,int) == False):\n",
        "        try:\n",
        "            # first try to simply get the number from the user\n",
        "            maxShift = int(input(\"\\nWhat is the maximum shift you would like to try?: \"))\n",
        "        except ValueError:  # Catpure the cast error\n",
        "            print(\"\\nERROR: The value typed is not an integer. Try again:\")\n",
        "        \n",
        "            \n",
        "    ## GET THE FILE NAMES\n",
        "    ## CONVERT THE FILES TO LISTS\n",
        "    # initialize the variable GoodToGo to be used in the while loop below\n",
        "    GoodToGo = False\n",
        "    while GoodToGo == False:\n",
        "        # ask the user for the file names\n",
        "        DNAseqFile1 = input(\"\\nWhat is the name of the file (with the file extension)\\nthat contains your first DNA sequence to be compared? : \")\n",
        "        DNAseqFile2 = input(\"\\n\\nWhat is the name of the file (with the file extension)\\nthat contains your second DNA sequence to be compared\\nto your first DNA sequence? : \")\n",
        "        \n",
        "        # try to open/read the first file and convert to a list\n",
        "        try:\n",
        "            seq1 = fileToList(DNAseqFile1)\n",
        "        # if the file does not exist, give the user an error and they will be returned to the top of the while loop\n",
        "        except FileNotFoundError:\n",
        "            print('\\nERROR: There is no file named', DNAseqFile1,\".\\n Try again:\")\n",
        "        # if the file exists and was successfully open/read\n",
        "        else:\n",
        "            # try to open & read the second file\n",
        "            try:\n",
        "                seq2 = fileToList(DNAseqFile2)\n",
        "            # if the file does not exist, give the user an error and they will be returned to the top of the while loop\n",
        "            except FileNotFoundError:\n",
        "                print('\\nERROR: There is no file named', DNAseqFile2,\".\\n Try again:\")\n",
        "            # if the first and second file were successfully opened/read\n",
        "            else:\n",
        "                # compare the lengths of the DNA sequences\n",
        "                if len(seq1) == len(seq2):\n",
        "                    # if the lengths of the DNA sequences match\n",
        "                    # change GoodToGo to True to exit the while loop\n",
        "                    GoodToGo = True\n",
        "                # if the DNA sequences have different lengths\n",
        "                else:\n",
        "                    # give the user an error and they will be returned to the top of the while loop\n",
        "                    print(\"\\nError: Your DNA sequences have different lengths.\\nTo properly compare your DNA sequences, they MUST be the same length.\\nTry importing different files.\")\n",
        "        \n",
        "    \n",
        "    ## METHOD A: NUMBER OF MATCHES\n",
        "    # if the user chooses method a\n",
        "    if(method == 'a'):\n",
        "        # compare the DNA sequences and the number of matches\n",
        "        finShift, totMatches, finSeq1, finSeq2 = shifter(seq1, seq2, maxShift)\n",
        "        # print all the important information for the user\n",
        "        print(\"\\nDone!\")\n",
        "        print(\"The best shift that gives the highest number of (noncontiguous) matches is\", finShift)\n",
        "        print(\"\\nWith\", finShift,\"shifts, your first DNA sequence looks like:\")\n",
        "        print(finSeq1)\n",
        "        print(\"With\", finShift,\"shifts, your second DNA sequence looks like:\")\n",
        "        print(finSeq2)\n",
        "        print(\"\\nWhen your DNA sequences are shifted by\", finShift, \", you have\", totMatches, \"(noncontiguous) matching nucleotides.\")\n",
        "        \n",
        "        \n",
        "    ## METHOD B: MAXIMUM CONTIGUOUS CHAIN\n",
        "    # if the user chooses method b\n",
        "    elif(method == 'b'):\n",
        "        # compare the DNA sequences and assess max contiguous matches\n",
        "        finShift, finContMatches, finSeq1, finSeq2 = maxChain(seq1, seq2, maxShift)\n",
        "        # print all the important information for the user\n",
        "        print(\"\\nDone!\")\n",
        "        print(\"The best shift that gives the maximum number of contiguous matches is\", finShift,\".\")\n",
        "        print(\"\\nWith\", finShift,\"shifts, your first DNA sequence looks like:\")\n",
        "        print(finSeq1)\n",
        "        print(\"With\", finShift,\"shifts, your second DNA sequence looks like:\")\n",
        "        print(finSeq2)\n",
        "        print(\"\\nWhen your DNA sequences are shifted by\", finShift, \", you have\", finContMatches, \"contiguous matching nucleotides.\")\n"
      ],
      "metadata": {
        "id": "OfGUd75FohlJ"
      },
      "execution_count": 22,
      "outputs": []
    },
    {
      "cell_type": "markdown",
      "source": [
        "## Example Output for the \"Number of Matches\" Approach\n",
        "\n",
        "I am also demonstrating how my code catches errors here."
      ],
      "metadata": {
        "id": "19Di1AS3p-5o"
      }
    },
    {
      "cell_type": "code",
      "execution_count": 23,
      "metadata": {
        "colab": {
          "base_uri": "https://localhost:8080/"
        },
        "id": "Kw1VSeruA3eE",
        "outputId": "3f3db036-9c0c-476a-95d6-67bfd2ae65cf"
      },
      "outputs": [
        {
          "output_type": "stream",
          "name": "stdout",
          "text": [
            "Welcome!\n",
            "\n",
            "Let's figure out how well your two DNA sequences match.\n",
            "\n",
            "First, we need some information from you.\n",
            "\n",
            "Which method would you like to use to compare your DNA sequences?\n",
            "For number of matches (noncontiguous), type 'a'\n",
            "For maximum contiguous matches, type 'b' : z\n",
            "\n",
            "ERROR: You must type 'a' or 'b' to select your method. Try again:\n",
            "\n",
            "Which method would you like to use to compare your DNA sequences?\n",
            "For number of matches (noncontiguous), type 'a'\n",
            "For maximum contiguous matches, type 'b' : a\n",
            "\n",
            "What is the maximum shift you would like to try?: efwi\n",
            "\n",
            "ERROR: The value typed is not an integer. Try again:\n",
            "\n",
            "What is the maximum shift you would like to try?: 4\n",
            "\n",
            "What is the name of the file (with the file extension)\n",
            "that contains your first DNA sequence to be compared? : f1.txt\n",
            "\n",
            "\n",
            "What is the name of the file (with the file extension)\n",
            "that contains your second DNA sequence to be compared\n",
            "to your first DNA sequence? : uiwefhiuwehfwi\n",
            "\n",
            "ERROR: There is no file named uiwefhiuwehfwi .\n",
            " Try again:\n",
            "\n",
            "What is the name of the file (with the file extension)\n",
            "that contains your first DNA sequence to be compared? : f1.txt\n",
            "\n",
            "\n",
            "What is the name of the file (with the file extension)\n",
            "that contains your second DNA sequence to be compared\n",
            "to your first DNA sequence? : f3.txt\n",
            "\n",
            "Error: Your DNA sequences have different lengths.\n",
            "To properly compare your DNA sequences, they MUST be the same length.\n",
            "Try importing different files.\n",
            "\n",
            "What is the name of the file (with the file extension)\n",
            "that contains your first DNA sequence to be compared? : f1.txt\n",
            "\n",
            "\n",
            "What is the name of the file (with the file extension)\n",
            "that contains your second DNA sequence to be compared\n",
            "to your first DNA sequence? : f2.txt\n",
            "\n",
            "Done!\n",
            "The best shift that gives the highest number of (noncontiguous) matches is 3\n",
            "\n",
            "With 3 shifts, your first DNA sequence looks like:\n",
            "['', '', '', 'T', 'T', 'G', 'G', 'A', 'A', 'C', 'C']\n",
            "With 3 shifts, your second DNA sequence looks like:\n",
            "['A', 'A', 'C', 'C', 'T', 'G', 'T', 'G', '', '', '']\n",
            "\n",
            "When your DNA sequences are shifted by 3 , you have 2 (noncontiguous) matching nucleotides.\n"
          ]
        }
      ],
      "source": [
        "main()"
      ]
    },
    {
      "cell_type": "markdown",
      "source": [
        "## Example Output for the \"Maximum Contiguous Chain\" Approach"
      ],
      "metadata": {
        "id": "ypsm4z8ArKMe"
      }
    },
    {
      "cell_type": "code",
      "source": [
        "main()"
      ],
      "metadata": {
        "colab": {
          "base_uri": "https://localhost:8080/"
        },
        "id": "XPCFqGxTrRp7",
        "outputId": "270b49ae-75fe-4106-8c48-e7d8317d3ea3"
      },
      "execution_count": 24,
      "outputs": [
        {
          "output_type": "stream",
          "name": "stdout",
          "text": [
            "Welcome!\n",
            "\n",
            "Let's figure out how well your two DNA sequences match.\n",
            "\n",
            "First, we need some information from you.\n",
            "\n",
            "Which method would you like to use to compare your DNA sequences?\n",
            "For number of matches (noncontiguous), type 'a'\n",
            "For maximum contiguous matches, type 'b' : b\n",
            "\n",
            "What is the maximum shift you would like to try?: 5\n",
            "\n",
            "What is the name of the file (with the file extension)\n",
            "that contains your first DNA sequence to be compared? : f2.txt\n",
            "\n",
            "\n",
            "What is the name of the file (with the file extension)\n",
            "that contains your second DNA sequence to be compared\n",
            "to your first DNA sequence? : f1.txt\n",
            "\n",
            "Done!\n",
            "The best shift that gives the maximum number of contiguous matches is 4 .\n",
            "\n",
            "With 4 shifts, your first DNA sequence looks like:\n",
            "['', '', '', '', 'A', 'A', 'C', 'C', 'T', 'G', 'T', 'G']\n",
            "With 4 shifts, your second DNA sequence looks like:\n",
            "['T', 'T', 'G', 'G', 'A', 'A', 'C', 'C', '', '', '', '']\n",
            "\n",
            "When your DNA sequences are shifted by 4 , you have 4 contiguous matching nucleotides.\n"
          ]
        }
      ]
    }
  ]
}
{
  "nbformat": 4,
  "nbformat_minor": 0,
  "metadata": {
    "colab": {
      "provenance": [],
      "authorship_tag": "ABX9TyN7SxWPmGR0g8ViWpAk/YY1",
      "include_colab_link": true
    },
    "kernelspec": {
      "name": "python3",
      "display_name": "Python 3"
    },
    "language_info": {
      "name": "python"
    }
  },
  "cells": [
    {
      "cell_type": "markdown",
      "metadata": {
        "id": "view-in-github",
        "colab_type": "text"
      },
      "source": [
        "<a href=\"https://colab.research.google.com/github/NKWesely/INF502_assignments/blob/main/INF502_PA1_fall2022.ipynb\" target=\"_parent\"><img src=\"https://colab.research.google.com/assets/colab-badge.svg\" alt=\"Open In Colab\"/></a>"
      ]
    },
    {
      "cell_type": "markdown",
      "source": [
        "# INF 502 PA 1\n",
        "### Natasha Wesely\n",
        "### October 13, 2022\n",
        "\n"
      ],
      "metadata": {
        "id": "lw_SXPP2A8i4"
      }
    },
    {
      "cell_type": "markdown",
      "source": [
        "## Description of My Approach to Solve the Problem\n",
        "\n",
        "To create this program "
      ],
      "metadata": {
        "id": "XJq5_cDFoXAZ"
      }
    },
    {
      "cell_type": "markdown",
      "source": [
        "Because I am submitting this assignment as a google collab, I have to have the code chunk below to link my google drive "
      ],
      "metadata": {
        "id": "mKuuaoO2uSXi"
      }
    },
    {
      "cell_type": "code",
      "source": [
        "from google.colab import drive\n",
        "drive.mount('/content/gdrive')"
      ],
      "metadata": {
        "colab": {
          "base_uri": "https://localhost:8080/"
        },
        "id": "AmHWQ_YRE7X_",
        "outputId": "e6620b76-52ad-4ab9-e09a-6b4fecec81ae"
      },
      "execution_count": 16,
      "outputs": [
        {
          "output_type": "stream",
          "name": "stdout",
          "text": [
            "Mounted at /content/gdrive\n"
          ]
        }
      ]
    },
    {
      "cell_type": "code",
      "source": [
        "def fileToList(InputFile):\n",
        "    # combine the file name with the file path\n",
        "    googleDrivePath = \"/content/gdrive/My Drive/INF502_SoftwareDevelopmentMethodologies/PA1/\"\n",
        "    InputFilePath = googleDrivePath + InputFile\n",
        "    # open the input file to be read\n",
        "    InputOpen = open(InputFilePath, 'r')\n",
        "    # read in the input file\n",
        "    InputRead = InputOpen.read()\n",
        "    # close the input file\n",
        "    InputOpen.close()\n",
        "    # create an empty list that we can append to\n",
        "    outList = []\n",
        "    # loop through each element in the character string (from the file) and put them in a list\n",
        "    for i in range(len(InputRead)):\n",
        "        # append each character to the output list\n",
        "        outList.append(InputRead[i])\n",
        "    return outList"
      ],
      "metadata": {
        "id": "2M0xYxmnF5wm"
      },
      "execution_count": 10,
      "outputs": []
    },
    {
      "cell_type": "markdown",
      "source": [],
      "metadata": {
        "id": "eUPZ81mToQe8"
      }
    },
    {
      "cell_type": "code",
      "source": [
        "def shifter(str1, str2, shifts):\n",
        "    # create an empty lists that keeps track of the number of shifts \n",
        "    shiftTried = []\n",
        "    # create an empty list that keeps track of the number of matches\n",
        "    numbMatches = []\n",
        "    # create empty lists to keep track of what the DNA sequences look like at each shift\n",
        "    shiftSeq1 = []\n",
        "    shiftSeq2 = []\n",
        "    \n",
        "    for s in range(shifts + 1):\n",
        "        # record the shift number\n",
        "        shiftTried.append(s)\n",
        "        \n",
        "        # shift the DNA sequences \n",
        "        if s != 0: # if the shift does not equal 0\n",
        "            # shift the first string to the right\n",
        "            # by adding one empty element at the start of the string\n",
        "            str1.insert(0, \"\")\n",
        "            # shift the second string to the left\n",
        "            # by adding one empty element at the end of the string\n",
        "            str2.append(\"\")\n",
        "            \n",
        "        # record what the DNA sequences look at like at this shift\n",
        "        shiftSeq1.append(str1.copy())\n",
        "        shiftSeq2.append(str2.copy())\n",
        "        \n",
        "        # create an counter to track the number of matches for this shift\n",
        "        matchCounter = 0\n",
        "        \n",
        "        # loop through each element in both lists \n",
        "        for i in range(len(str1)):\n",
        "            # check to see if the two elements match\n",
        "            if str1[i] == str2[i]:\n",
        "                # if the elements match,\n",
        "                # add 1 to the match counter \n",
        "                matchCounter = matchCounter+1\n",
        "        # record the number of matches at this shift\n",
        "        numbMatches.append(matchCounter)\n",
        "        \n",
        "        # what is the highest number of matches?\n",
        "        totMatches = max(numbMatches)\n",
        "        # what is the index for the best shift?\n",
        "        bestIndex = numbMatches.index(totMatches)\n",
        "        # which shift gives the user the highest number of matches?\n",
        "        bestShift = shiftTried[bestIndex]\n",
        "        # what does the first DNA sequence look like at the best shift?\n",
        "        bestShiftSeq1 = shiftSeq1[bestIndex]\n",
        "        # what does the first DNA sequence look like at the best shift?\n",
        "        bestShiftSeq2 = shiftSeq2[bestIndex]\n",
        "    \n",
        "    # return all the important information to the user\n",
        "    return bestShift, totMatches, bestShiftSeq1, bestShiftSeq2\n"
      ],
      "metadata": {
        "id": "wTtYJLVLoR8H"
      },
      "execution_count": 11,
      "outputs": []
    },
    {
      "cell_type": "markdown",
      "source": [],
      "metadata": {
        "id": "lqi55dyroaG2"
      }
    },
    {
      "cell_type": "code",
      "source": [
        "def maxChain(str1, str2, shifts):\n",
        "    # create an empty lists that keeps track of the number of shifts \n",
        "    shiftTried = []\n",
        "    # create an empty list that keeps track of the number of matches\n",
        "    numbContMatches = []\n",
        "    # create an empty lists to keep track of what the DNA sequences look like at each shift\n",
        "    shiftSeq1 = []\n",
        "    shiftSeq2 = []\n",
        "    \n",
        "    # loop through each shift\n",
        "    for s in range(shifts + 1):\n",
        "        # record the shift number\n",
        "        shiftTried.append(s)\n",
        "        \n",
        "        # shift the DNA sequences \n",
        "        if s != 0: # if the shift does not equal 0\n",
        "            # shift the first string to the right\n",
        "            # by adding one empty element at the start of the string\n",
        "            str1.insert(0, \"\")\n",
        "            # shift the second string to the left\n",
        "            # by adding one empty element at the end of the string\n",
        "            str2.append(\"\")\n",
        "        \n",
        "        # record what the DNA sequences look like at this shift\n",
        "        shiftSeq1.append(str1.copy())\n",
        "        shiftSeq2.append(str2.copy())\n",
        "        \n",
        "        # create tracker objects to count the matches\n",
        "        matchCounter = 0\n",
        "        maxCount = 0\n",
        "       \n",
        "        # loop through each element in both sequence \n",
        "        for i in range(len(str1)):\n",
        "            # check to see if the two elements match\n",
        "            if str1[i] == str2[i]:\n",
        "                # if the elements match,\n",
        "                # add 1 to the match counter\n",
        "                matchCounter = matchCounter+1\n",
        "                # if the match counter is greater than the max count, write over the the current max count with the match counter\n",
        "                if matchCounter > maxCount:\n",
        "                    maxCount = matchCounter\n",
        "            else:\n",
        "                # if the elements don't match,\n",
        "                # reset the match counter\n",
        "                matchCounter = 0\n",
        "        \n",
        "        # record the max continous matches for this shift\n",
        "        numbContMatches.append(maxCount)\n",
        "        \n",
        "        # what is the maximum number of contiguous matches?\n",
        "        maxContMatch = max(numbContMatches)\n",
        "        # what index corresponds to the max?\n",
        "        bestIndex = numbContMatches.index(maxContMatch)\n",
        "        # which shift gives the user the most contiguous matches?\n",
        "        bestShift = shiftTried[bestIndex]\n",
        "        # what do the DNA sequences look like at the best shift?\n",
        "        bestShiftSeq1 = shiftSeq1[bestIndex]\n",
        "        bestShiftSeq2 = shiftSeq2[bestIndex]\n",
        "                \n",
        "    return bestShift, maxContMatch, bestShiftSeq1, bestShiftSeq2\n",
        "    "
      ],
      "metadata": {
        "id": "pEV2WLPcoadK"
      },
      "execution_count": 12,
      "outputs": []
    },
    {
      "cell_type": "markdown",
      "source": [
        "Finally, I define a main() function where I actually use my previously defined functions (above). I first welcome the user with some simple print statements. Then I take the user into a while loop that forces the user to type either \"a\" or \"b\" to select their method to compare the DNA sequences. Then I ask the user for the number of shifts they want to try, but similarily this takes the user into a while loop which catches any input type error (in case the user tries to input something besides an integer value for the shift). Then the user enters yet another while loop that asks the user for file names, and then tries to convert the files into lists with my fileToList() function. This while loop, combined with try/except statements, catches FileNotFoundErrors and checks to make sure the length of the DNA sequences are the same. Finally, the DNA sequence comparison is conducted using either the shifter() function (if the user chose the Number of Matches option), or the maxChain() function (if the user chose the Max Contiguous Chain option). Then I print the important information for the user. "
      ],
      "metadata": {
        "id": "RU72w3NZohPV"
      }
    },
    {
      "cell_type": "code",
      "source": [
        "def main():\n",
        "    ## WELCOME THE USER\n",
        "    print(\"Welcome!\\n\\nLet's figure out how well your two DNA sequences match.\")\n",
        "    print(\"\\nFirst, we need some information from you.\")\n",
        "    \n",
        "    ## GET THE METHOD to be used to compare the DNA\n",
        "    # initialize method sith something silly to enter the while loop\n",
        "    method = 'f'\n",
        "    while (method != 'a') and (method != 'b') :\n",
        "        # ask the user for the method\n",
        "        method = input(\"\\nWhich method would you like to use to compare your DNA sequences?\\nFor number of matches (noncontiguous), type 'a'\\nFor maximum contiguous matches, type 'b' : \")\n",
        "        # if the user inputs something besides a or b\n",
        "        if (method != 'a') and (method != 'b'):\n",
        "            # send the user an error, then the user will be sent to the top of the while loop\n",
        "            print(\"\\nERROR: You must type 'a' or 'b' to select your method. Try again:\")\n",
        "    \n",
        "    ## GET THE SHIFTS to try\n",
        "    # initialize maxShift with something silly so that the code enters the while loop\n",
        "    maxShift = \"a\"\n",
        "    while (isinstance(maxShift,int) == False):\n",
        "        try:\n",
        "            # first try to simply get the number from the user\n",
        "            maxShift = int(input(\"\\nWhat is the maximum shift you would like to try?: \"))\n",
        "        except ValueError:  # Catpure the cast error\n",
        "            print(\"\\nERROR: The value typed is not an integer. Try again:\")\n",
        "        \n",
        "            \n",
        "    ## GET THE FILE NAMES\n",
        "    ## CONVERT THE FILES TO LISTS\n",
        "    # initialize the variable GoodToGo to be used in the while loop below\n",
        "    GoodToGo = False\n",
        "    while GoodToGo == False:\n",
        "        # ask the user for the file names\n",
        "        DNAseqFile1 = input(\"\\nWhat is the name of the file (with the file extension)\\nthat contains your first DNA sequence to be compared? : \")\n",
        "        DNAseqFile2 = input(\"\\n\\nWhat is the name of the file (with the file extension)\\nthat contains your second DNA sequence to be compared\\nto your first DNA sequence? : \")\n",
        "        \n",
        "        # try to open/read the first file and convert to a list\n",
        "        try:\n",
        "            seq1 = fileToList(DNAseqFile1)\n",
        "        # if the file does not exist, give the user an error and they will be returned to the top of the while loop\n",
        "        except FileNotFoundError:\n",
        "            print('\\nERROR: There is no file named', DNAseqFile1,\".\\n Try again:\")\n",
        "        # if the file exists and was successfully open/read\n",
        "        else:\n",
        "            # try to open & read the second file\n",
        "            try:\n",
        "                seq2 = fileToList(DNAseqFile2)\n",
        "            # if the file does not exist, give the user an error and they will be returned to the top of the while loop\n",
        "            except FileNotFoundError:\n",
        "                print('\\nERROR: There is no file named', DNAseqFile2,\".\\n Try again:\")\n",
        "            # if the first and second file were successfully opened/read\n",
        "            else:\n",
        "                # compare the lengths of the DNA sequences\n",
        "                if len(seq1) == len(seq2):\n",
        "                    # if the lengths of the DNA sequences match\n",
        "                    # change GoodToGo to True to exit the while loop\n",
        "                    GoodToGo = True\n",
        "                # if the DNA sequences have different lengths\n",
        "                else:\n",
        "                    # give the user an error and they will be returned to the top of the while loop\n",
        "                    print(\"\\nError: Your DNA sequences have different lengths.\\nTo properly compare your DNA sequences, they MUST be the same length.\\nTry importing different files.\")\n",
        "        \n",
        "    \n",
        "    ## METHOD A: NUMBER OF MATCHES\n",
        "    # if the user chooses method a\n",
        "    if(method == 'a'):\n",
        "        # compare the DNA sequences and the number of matches\n",
        "        finShift, totMatches, finSeq1, finSeq2 = shifter(seq1, seq2, maxShift)\n",
        "        # print all the important information for the user\n",
        "        print(\"\\nDone!\")\n",
        "        print(\"The best shift that gives the highest number of (noncontiguous) matches is\", finShift)\n",
        "        print(\"\\nWith\", finShift,\"shifts, your first DNA sequence looks like:\")\n",
        "        print(finSeq1)\n",
        "        print(\"With\", finShift,\"shifts, your second DNA sequence looks like:\")\n",
        "        print(finSeq2)\n",
        "        print(\"\\nWhen your DNA sequences are shifted by\", finShift, \", you have\", totMatches, \"(noncontiguous) matching nucleotides.\")\n",
        "        \n",
        "        \n",
        "    ## METHOD B: MAXIMUM CONTIGUOUS CHAIN\n",
        "    # if the user chooses method b\n",
        "    elif(method == 'b'):\n",
        "        # compare the DNA sequences and assess max contiguous matches\n",
        "        finShift, finContMatches, finSeq1, finSeq2 = maxChain(seq1, seq2, maxShift)\n",
        "        # print all the important information for the user\n",
        "        print(\"\\nDone!\")\n",
        "        print(\"The best shift that gives the maximum number of contiguous matches is\", finShift,\".\")\n",
        "        print(\"\\nWith\", finShift,\"shifts, your first DNA sequence looks like:\")\n",
        "        print(finSeq1)\n",
        "        print(\"With\", finShift,\"shifts, your second DNA sequence looks like:\")\n",
        "        print(finSeq2)\n",
        "        print(\"\\nWhen your DNA sequences are shifted by\", finShift, \", you have\", finContMatches, \"contiguous matching nucleotides.\")\n"
      ],
      "metadata": {
        "id": "OfGUd75FohlJ"
      },
      "execution_count": 13,
      "outputs": []
    },
    {
      "cell_type": "markdown",
      "source": [
        "## Example Output for the \"Number of Matches\" Approach\n",
        "\n",
        "I am also demonstrating how my code catches errors here."
      ],
      "metadata": {
        "id": "19Di1AS3p-5o"
      }
    },
    {
      "cell_type": "code",
      "execution_count": 14,
      "metadata": {
        "colab": {
          "base_uri": "https://localhost:8080/",
          "height": 711
        },
        "id": "Kw1VSeruA3eE",
        "outputId": "df02ba45-794f-471b-e24a-ac499f52dc8c"
      },
      "outputs": [
        {
          "output_type": "stream",
          "name": "stdout",
          "text": [
            "Welcome!\n",
            "\n",
            "Let's figure out how well your two DNA sequences match.\n",
            "\n",
            "First, we need some information from you.\n",
            "\n",
            "Which method would you like to use to compare your DNA sequences?\n",
            "For number of matches (noncontiguous), type 'a'\n",
            "For maximum contiguous matches, type 'b' : a\n",
            "\n",
            "What is the maximum shift you would like to try?: 4\n",
            "\n",
            "What is the name of the file (with the file extension)\n",
            "that contains your first DNA sequence to be compared? : f1.txt\n",
            "\n",
            "\n",
            "What is the name of the file (with the file extension)\n",
            "that contains your second DNA sequence to be compared\n",
            "to your first DNA sequence? : f2.txt\n",
            "\n",
            "ERROR: There is no file named f1.txt .\n",
            " Try again:\n"
          ]
        },
        {
          "output_type": "error",
          "ename": "KeyboardInterrupt",
          "evalue": "ignored",
          "traceback": [
            "\u001b[0;31m---------------------------------------------------------------------------\u001b[0m",
            "\u001b[0;31mKeyboardInterrupt\u001b[0m                         Traceback (most recent call last)",
            "\u001b[0;32m<ipython-input-14-263240bbee7e>\u001b[0m in \u001b[0;36m<module>\u001b[0;34m\u001b[0m\n\u001b[0;32m----> 1\u001b[0;31m \u001b[0mmain\u001b[0m\u001b[0;34m(\u001b[0m\u001b[0;34m)\u001b[0m\u001b[0;34m\u001b[0m\u001b[0;34m\u001b[0m\u001b[0m\n\u001b[0m",
            "\u001b[0;32m<ipython-input-13-f3763651723b>\u001b[0m in \u001b[0;36mmain\u001b[0;34m()\u001b[0m\n\u001b[1;32m     32\u001b[0m     \u001b[0;32mwhile\u001b[0m \u001b[0mGoodToGo\u001b[0m \u001b[0;34m==\u001b[0m \u001b[0;32mFalse\u001b[0m\u001b[0;34m:\u001b[0m\u001b[0;34m\u001b[0m\u001b[0;34m\u001b[0m\u001b[0m\n\u001b[1;32m     33\u001b[0m         \u001b[0;31m# ask the user for the file names\u001b[0m\u001b[0;34m\u001b[0m\u001b[0;34m\u001b[0m\u001b[0;34m\u001b[0m\u001b[0m\n\u001b[0;32m---> 34\u001b[0;31m         \u001b[0mDNAseqFile1\u001b[0m \u001b[0;34m=\u001b[0m \u001b[0minput\u001b[0m\u001b[0;34m(\u001b[0m\u001b[0;34m\"\\nWhat is the name of the file (with the file extension)\\nthat contains your first DNA sequence to be compared? : \"\u001b[0m\u001b[0;34m)\u001b[0m\u001b[0;34m\u001b[0m\u001b[0;34m\u001b[0m\u001b[0m\n\u001b[0m\u001b[1;32m     35\u001b[0m         \u001b[0mDNAseqFile2\u001b[0m \u001b[0;34m=\u001b[0m \u001b[0minput\u001b[0m\u001b[0;34m(\u001b[0m\u001b[0;34m\"\\n\\nWhat is the name of the file (with the file extension)\\nthat contains your second DNA sequence to be compared\\nto your first DNA sequence? : \"\u001b[0m\u001b[0;34m)\u001b[0m\u001b[0;34m\u001b[0m\u001b[0;34m\u001b[0m\u001b[0m\n\u001b[1;32m     36\u001b[0m \u001b[0;34m\u001b[0m\u001b[0m\n",
            "\u001b[0;32m/usr/local/lib/python3.7/dist-packages/ipykernel/kernelbase.py\u001b[0m in \u001b[0;36mraw_input\u001b[0;34m(self, prompt)\u001b[0m\n\u001b[1;32m    861\u001b[0m             \u001b[0mself\u001b[0m\u001b[0;34m.\u001b[0m\u001b[0m_parent_ident\u001b[0m\u001b[0;34m,\u001b[0m\u001b[0;34m\u001b[0m\u001b[0;34m\u001b[0m\u001b[0m\n\u001b[1;32m    862\u001b[0m             \u001b[0mself\u001b[0m\u001b[0;34m.\u001b[0m\u001b[0m_parent_header\u001b[0m\u001b[0;34m,\u001b[0m\u001b[0;34m\u001b[0m\u001b[0;34m\u001b[0m\u001b[0m\n\u001b[0;32m--> 863\u001b[0;31m             \u001b[0mpassword\u001b[0m\u001b[0;34m=\u001b[0m\u001b[0;32mFalse\u001b[0m\u001b[0;34m,\u001b[0m\u001b[0;34m\u001b[0m\u001b[0;34m\u001b[0m\u001b[0m\n\u001b[0m\u001b[1;32m    864\u001b[0m         )\n\u001b[1;32m    865\u001b[0m \u001b[0;34m\u001b[0m\u001b[0m\n",
            "\u001b[0;32m/usr/local/lib/python3.7/dist-packages/ipykernel/kernelbase.py\u001b[0m in \u001b[0;36m_input_request\u001b[0;34m(self, prompt, ident, parent, password)\u001b[0m\n\u001b[1;32m    902\u001b[0m             \u001b[0;32mexcept\u001b[0m \u001b[0mKeyboardInterrupt\u001b[0m\u001b[0;34m:\u001b[0m\u001b[0;34m\u001b[0m\u001b[0;34m\u001b[0m\u001b[0m\n\u001b[1;32m    903\u001b[0m                 \u001b[0;31m# re-raise KeyboardInterrupt, to truncate traceback\u001b[0m\u001b[0;34m\u001b[0m\u001b[0;34m\u001b[0m\u001b[0;34m\u001b[0m\u001b[0m\n\u001b[0;32m--> 904\u001b[0;31m                 \u001b[0;32mraise\u001b[0m \u001b[0mKeyboardInterrupt\u001b[0m\u001b[0;34m(\u001b[0m\u001b[0;34m\"Interrupted by user\"\u001b[0m\u001b[0;34m)\u001b[0m \u001b[0;32mfrom\u001b[0m \u001b[0;32mNone\u001b[0m\u001b[0;34m\u001b[0m\u001b[0;34m\u001b[0m\u001b[0m\n\u001b[0m\u001b[1;32m    905\u001b[0m             \u001b[0;32mexcept\u001b[0m \u001b[0mException\u001b[0m \u001b[0;32mas\u001b[0m \u001b[0me\u001b[0m\u001b[0;34m:\u001b[0m\u001b[0;34m\u001b[0m\u001b[0;34m\u001b[0m\u001b[0m\n\u001b[1;32m    906\u001b[0m                 \u001b[0mself\u001b[0m\u001b[0;34m.\u001b[0m\u001b[0mlog\u001b[0m\u001b[0;34m.\u001b[0m\u001b[0mwarning\u001b[0m\u001b[0;34m(\u001b[0m\u001b[0;34m\"Invalid Message:\"\u001b[0m\u001b[0;34m,\u001b[0m \u001b[0mexc_info\u001b[0m\u001b[0;34m=\u001b[0m\u001b[0;32mTrue\u001b[0m\u001b[0;34m)\u001b[0m\u001b[0;34m\u001b[0m\u001b[0;34m\u001b[0m\u001b[0m\n",
            "\u001b[0;31mKeyboardInterrupt\u001b[0m: Interrupted by user"
          ]
        }
      ],
      "source": [
        "main()"
      ]
    },
    {
      "cell_type": "markdown",
      "source": [
        "## Example Output for the \"Maximum Contiguous Chain\" Approach"
      ],
      "metadata": {
        "id": "ypsm4z8ArKMe"
      }
    },
    {
      "cell_type": "code",
      "source": [
        "main()"
      ],
      "metadata": {
        "id": "XPCFqGxTrRp7"
      },
      "execution_count": null,
      "outputs": []
    },
    {
      "cell_type": "code",
      "source": [
        "test = open(\"/content/gdrive/My Drive/INF502_SoftwareDevelopmentMethodologies/PA1/f1.txt\", 'r')\n",
        "test2 = test.read()\n",
        "print(test2)"
      ],
      "metadata": {
        "colab": {
          "base_uri": "https://localhost:8080/"
        },
        "id": "mEyyJJvTEGQD",
        "outputId": "7a8cc1f4-7165-4e46-9c69-5a1f023f6d9b"
      },
      "execution_count": 17,
      "outputs": [
        {
          "output_type": "stream",
          "name": "stdout",
          "text": [
            "TTGGAACC\n"
          ]
        }
      ]
    },
    {
      "cell_type": "code",
      "source": [
        "InputFile = \"f1.txt\"\n",
        "googleDrivePath = \"/content/gdrive/My Drive/INF502_SoftwareDevelopmentMethodologies/PA1/\"\n",
        "InputFilePath = googleDrivePath + InputFile\n",
        "print(InputFilePath)"
      ],
      "metadata": {
        "colab": {
          "base_uri": "https://localhost:8080/"
        },
        "id": "1QHQUX-1F3r3",
        "outputId": "7a31f328-21ba-4ba1-be44-8083efb7d726"
      },
      "execution_count": 10,
      "outputs": [
        {
          "output_type": "stream",
          "name": "stdout",
          "text": [
            "/content/gdrive/My Drive/INF502_SoftwareDevelopmentMethodologies/PA1/f1.txt\n"
          ]
        }
      ]
    }
  ]
}